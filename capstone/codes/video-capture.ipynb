{
 "cells": [
  {
   "cell_type": "code",
   "execution_count": 7,
   "metadata": {},
   "outputs": [],
   "source": [
    "\"\"\"\n",
    "Read/stream images off the webcam.\n",
    "\"\"\"\n",
    "import time\n",
    "\n",
    "import numpy as np\n",
    "import cv2 as cv"
   ]
  },
  {
   "cell_type": "code",
   "execution_count": 8,
   "metadata": {},
   "outputs": [
    {
     "name": "stdout",
     "output_type": "stream",
     "text": [
      "Camera is operational.\n"
     ]
    }
   ],
   "source": [
    "cap = cv.VideoCapture(0)\n",
    "\n",
    "if not cap.isOpened():\n",
    "    print(\"Cannot open camera.\")\n",
    "else:\n",
    "    print(\"Camera is operational.\")\n",
    "\n",
    "#exit()"
   ]
  },
  {
   "cell_type": "code",
   "execution_count": 9,
   "metadata": {},
   "outputs": [
    {
     "name": "stdout",
     "output_type": "stream",
     "text": [
      "5.0 1920.0 1080.0\n"
     ]
    }
   ],
   "source": [
    "ret = cap.set(cv.CAP_PROP_FRAME_WIDTH,1920)\n",
    "ret = cap.set(cv.CAP_PROP_FRAME_HEIGHT,1080)\n",
    "ret = cap.set(cv.CAP_PROP_FPS,5)\n",
    "\n",
    "fps = cap.get(cv.CAP_PROP_FPS)\n",
    "width  = cap.get(cv.CAP_PROP_FRAME_WIDTH)   # float\n",
    "height = cap.get(cv.CAP_PROP_FRAME_HEIGHT)  # float\n",
    "\n",
    "print(fps, width, height)"
   ]
  },
  {
   "cell_type": "code",
   "execution_count": 16,
   "metadata": {},
   "outputs": [],
   "source": [
    "fourcc = cv.VideoWriter_fourcc('m', 'p', '4', 'v')\n",
    "out = cv.VideoWriter('../video/output.avi', fourcc, fps, (int(width), int(height)))\n",
    "i = 1\n",
    "\n",
    "time.sleep(2)\n",
    "\n",
    "while(cap.isOpened()):\n",
    "    ret, frame = cap.read()\n",
    "    \n",
    "    if ret==True:\n",
    "        #frame = cv.flip(frame,0)\n",
    "        \n",
    "        #out.write(frame) #outputs a video\n",
    "        cv.imwrite('../fail/fail'+str(i)+'.jpg', frame) #outputs an image\n",
    "        i += 1\n",
    "\n",
    "        cv.imshow('frame',frame)\n",
    "        if cv.waitKey(1) & 0xFF == ord('q'):\n",
    "            break\n",
    "    else:\n",
    "        break\n",
    "\n",
    "out.release()\n",
    "cv.destroyAllWindows()"
   ]
  },
  {
   "cell_type": "code",
   "execution_count": 6,
   "metadata": {},
   "outputs": [],
   "source": [
    "cap.release()\n",
    "\n",
    "out.release()\n",
    "\n",
    "cv.destroyAllWindows()"
   ]
  },
  {
   "cell_type": "code",
   "execution_count": 12,
   "metadata": {},
   "outputs": [],
   "source": [
    "# fourcc = cv.CV_FOURCC(*'DIVX')\n",
    "# out = cv.VideoWriter('output.avi',fourcc, 20.0, (640,480))\n",
    "# # out = cv.VideoWriter('output.avi', -1, 20.0, (640,480))\n",
    "\n",
    "# while(cap.isOpened()):\n",
    "#     ret, frame = cap.read()\n",
    "#     if ret==True:\n",
    "#         frame = cv.flip(frame,0)\n",
    "\n",
    "#         # write the flipped frame\n",
    "#         out.write(frame)\n",
    "\n",
    "#         cv.imshow('frame',frame)\n",
    "#         if cv.waitKey(1) & 0xFF == ord('q'):\n",
    "#             break\n",
    "#     else:\n",
    "#         break\n",
    "\n",
    "# # Release everything if job is finished\n",
    "# cap.release()\n",
    "# out.release()\n",
    "# cv.destroyAllWindows()"
   ]
  },
  {
   "cell_type": "code",
   "execution_count": null,
   "metadata": {},
   "outputs": [],
   "source": [
    "def capture_images(save_folder):\n",
    "    \"\"\"Stream images off the camera and save them.\"\"\"\n",
    "    camera = PiCamera()\n",
    "    camera.resolution = (320, 240)\n",
    "    camera.framerate = 5\n",
    "\n",
    "    # Warmup...\n",
    "    time.sleep(2)\n",
    "\n",
    "    # And capture continuously forever.\n",
    "    for _ in camera.capture_continuous(\n",
    "            save_folder + '{timestamp}.jpg',\n",
    "            'jpeg', use_video_port=True\n",
    "    ):\n",
    "        pass\n",
    "\n",
    "if __name__ == '__main__':\n",
    "    capture_images('/mnt/usbstorage/images/')"
   ]
  }
 ],
 "metadata": {
  "interpreter": {
   "hash": "1be43b16aec1a185d7e7e033a290b6a7405d97e3c189469a6f458ea28157e1bd"
  },
  "kernelspec": {
   "display_name": "Python 3.8.12 ('dsi')",
   "language": "python",
   "name": "python3"
  },
  "language_info": {
   "codemirror_mode": {
    "name": "ipython",
    "version": 3
   },
   "file_extension": ".py",
   "mimetype": "text/x-python",
   "name": "python",
   "nbconvert_exporter": "python",
   "pygments_lexer": "ipython3",
   "version": "3.8.12"
  },
  "orig_nbformat": 4
 },
 "nbformat": 4,
 "nbformat_minor": 2
}
