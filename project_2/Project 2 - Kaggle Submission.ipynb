{
 "cells": [
  {
   "cell_type": "markdown",
   "id": "f7ebfe21",
   "metadata": {},
   "source": [
    "# Kaggle Submission"
   ]
  },
  {
   "cell_type": "code",
   "execution_count": 1,
   "id": "d2d8dfb0",
   "metadata": {},
   "outputs": [],
   "source": [
    "#imports\n",
    "import pandas as pd\n",
    "import numpy as np\n",
    "import seaborn as sns\n",
    "import matplotlib.pyplot as plt\n",
    "from itertools import combinations\n",
    "\n",
    "from sklearn.linear_model import LinearRegression, Lasso, LassoCV, Ridge, RidgeCV, ElasticNet, ElasticNetCV\n",
    "from sklearn.model_selection import train_test_split, cross_val_score\n",
    "from sklearn.metrics import mean_squared_error\n",
    "from sklearn.preprocessing import StandardScaler"
   ]
  },
  {
   "cell_type": "code",
   "execution_count": 2,
   "id": "841d43dd",
   "metadata": {},
   "outputs": [],
   "source": [
    "#read in test.csv\n",
    "kaggle = pd.read_csv('datasets/test.csv')\n",
    "kaggle.columns = kaggle.columns.str.lower()\n",
    "kaggle.columns = kaggle.columns.str.replace(' ', '_')"
   ]
  },
  {
   "cell_type": "code",
   "execution_count": 3,
   "id": "6be85b3d",
   "metadata": {},
   "outputs": [],
   "source": [
    "#filtering for features of choice\n",
    "kaggle_choice = kaggle.loc[:, [\n",
    "    'lot_frontage', 'lot_area', 'mas_vnr_area', \n",
    "    'total_bsmt_sf', 'gr_liv_area', 'bsmt_full_bath',\n",
    "    'bsmt_half_bath', 'full_bath', 'half_bath', 'bedroom_abvgr',\n",
    "    'kitchen_abvgr','totrms_abvgrd', 'fireplaces','garage_area',\n",
    "    'wood_deck_sf', 'open_porch_sf', 'enclosed_porch', '3ssn_porch',\n",
    "    'screen_porch', 'pool_area','misc_val',\n",
    "     'ms_subclass', 'ms_zoning', 'street', 'alley',\n",
    "    'land_contour', 'lot_config', 'utilities',\n",
    "    'bldg_type', 'house_style', 'roof_style',\n",
    "    'roof_matl', 'exterior_1st', 'mas_vnr_type',\n",
    "    'foundation', 'heating', 'central_air',\n",
    "    'garage_type', 'misc_feature', 'sale_type',\n",
    "    'lot_shape', 'land_slope', 'overall_qual', 'overall_cond',\n",
    "    'exter_qual', 'exter_cond','bsmt_qual',\n",
    "       'bsmt_cond', 'bsmt_exposure', 'heating_qc',\n",
    "    'electrical','kitchen_qual', 'functional', 'fireplace_qu',\n",
    "    'garage_finish', 'garage_qual', 'neighborhood',\n",
    "       'garage_cond', 'paved_drive',\n",
    "    'pool_qc', 'fence', 'year_built', 'year_remod/add' \n",
    "]]"
   ]
  },
  {
   "cell_type": "code",
   "execution_count": 4,
   "id": "d24967a0",
   "metadata": {},
   "outputs": [],
   "source": [
    "#Calculate the age of the house and years since last remodelling/addition and making a new column\n",
    "kaggle_choice['years_since_built'] = kaggle_choice['year_built'].map(lambda x: 2020 - x)\n",
    "kaggle_choice['years_since_remod'] = kaggle_choice['year_remod/add'].map(lambda x: 2020 - x)\n",
    "kaggle_choice.drop(columns = ['year_built', 'year_remod/add'], axis = 1, inplace=True)"
   ]
  },
  {
   "cell_type": "code",
   "execution_count": 5,
   "id": "3ede0ccb",
   "metadata": {},
   "outputs": [
    {
     "data": {
      "text/plain": [
       "lot_frontage      160\n",
       "lot_area            0\n",
       "mas_vnr_area        1\n",
       "total_bsmt_sf       0\n",
       "gr_liv_area         0\n",
       "bsmt_full_bath      0\n",
       "bsmt_half_bath      0\n",
       "full_bath           0\n",
       "half_bath           0\n",
       "bedroom_abvgr       0\n",
       "kitchen_abvgr       0\n",
       "totrms_abvgrd       0\n",
       "fireplaces          0\n",
       "garage_area         0\n",
       "wood_deck_sf        0\n",
       "open_porch_sf       0\n",
       "enclosed_porch      0\n",
       "3ssn_porch          0\n",
       "screen_porch        0\n",
       "pool_area           0\n",
       "misc_val            0\n",
       "dtype: int64"
      ]
     },
     "execution_count": 5,
     "metadata": {},
     "output_type": "execute_result"
    }
   ],
   "source": [
    "kaggle_numerical = kaggle.loc[:, [\n",
    "    'lot_frontage', 'lot_area', 'mas_vnr_area', \n",
    "    'total_bsmt_sf', 'gr_liv_area', 'bsmt_full_bath',\n",
    "    'bsmt_half_bath', 'full_bath', 'half_bath', 'bedroom_abvgr',\n",
    "    'kitchen_abvgr','totrms_abvgrd', 'fireplaces','garage_area',\n",
    "    'wood_deck_sf', 'open_porch_sf', 'enclosed_porch', '3ssn_porch',\n",
    "    'screen_porch', 'pool_area','misc_val'\n",
    "]]\n",
    "\n",
    "#checking for null values\n",
    "kaggle_numerical.isnull().sum()"
   ]
  },
  {
   "cell_type": "code",
   "execution_count": 6,
   "id": "6fae78a5",
   "metadata": {},
   "outputs": [],
   "source": [
    "#Fixing 'lot_frontage' values in the main kaggle_choice df.\n",
    "fr_mean = kaggle_choice.groupby('ms_subclass')['lot_frontage'].mean()\n",
    "\n",
    "#Retrieving indexes of 'lot_frontage' null value rows.\n",
    "fr_index = kaggle_choice[kaggle_choice['lot_frontage'].isnull()].index\n",
    "\n",
    "#Setting the value of NaN to the mean according to 'ms_subclass' value.\n",
    "for index in fr_index:\n",
    "    kaggle_choice.loc[index, 'lot_frontage'] = fr_mean[kaggle_choice.loc[index,'ms_subclass']]    "
   ]
  },
  {
   "cell_type": "code",
   "execution_count": 7,
   "id": "a1776a6b",
   "metadata": {},
   "outputs": [
    {
     "data": {
      "text/plain": [
       "0"
      ]
     },
     "execution_count": 7,
     "metadata": {},
     "output_type": "execute_result"
    }
   ],
   "source": [
    "#double-checking\n",
    "kaggle_choice['lot_frontage'].isnull().sum()"
   ]
  },
  {
   "cell_type": "code",
   "execution_count": 8,
   "id": "2e1a87ec",
   "metadata": {},
   "outputs": [],
   "source": [
    "#set mas_vnr_area NaN to zero\n",
    "kaggle_choice['mas_vnr_area'] = kaggle_choice['mas_vnr_area'].map(lambda x: 0 if x != x else x)"
   ]
  },
  {
   "cell_type": "code",
   "execution_count": 9,
   "id": "3c04d447",
   "metadata": {},
   "outputs": [
    {
     "data": {
      "text/plain": [
       "0"
      ]
     },
     "execution_count": 9,
     "metadata": {},
     "output_type": "execute_result"
    }
   ],
   "source": [
    "#double-checking\n",
    "kaggle_choice['mas_vnr_area'].isnull().sum()"
   ]
  },
  {
   "cell_type": "code",
   "execution_count": 10,
   "id": "a5672834",
   "metadata": {},
   "outputs": [],
   "source": [
    "#Cleaning Ordinal values\n",
    "kaggle_choice['fence'] = kaggle_choice.loc[:, 'fence'].map(lambda x:                                                                  \n",
    "                                                                 4 if x == 'GdPrv' else\n",
    "                                                                 3 if x == 'MnPrv' else\n",
    "                                                                 2 if x == 'GdWo' else\n",
    "                                                                 1 if x == 'MnWw' else\n",
    "                                                                 0\n",
    "                                                                )\n",
    "\n",
    "kaggle_choice['paved_drive'] = kaggle_choice.loc[:, 'paved_drive'].map(lambda x:                                                                  \n",
    "                                                                 1 if x == 'Y' else\n",
    "                                                                 1 if x == 'P' else\n",
    "                                                                 0\n",
    "                                                                )\n",
    "\n",
    "kaggle_choice['garage_finish'] = kaggle_choice.loc[:, 'garage_finish'].map(lambda x:                                                                  \n",
    "                                                                 3 if x == 'Fin' else\n",
    "                                                                 2 if x == 'RFn' else\n",
    "                                                                 1 if x == 'Unf' else\n",
    "                                                                 0\n",
    "                                                                )\n",
    "\n",
    "\n",
    "kaggle_choice['electrical'] = kaggle_choice.loc[:, 'electrical'].map(lambda x: \n",
    "                                                                 4 if x == 'SBrkr' else\n",
    "                                                                 3 if x == 'FuseA' else\n",
    "                                                                 2 if x == 'FuseF' else\n",
    "                                                                 1 if x == 'FuseP' else\n",
    "                                                                 0\n",
    "                                                                )\n",
    "\n",
    "kaggle_choice['bsmt_exposure'] = kaggle_choice.loc[:, 'bsmt_exposure'].map(lambda x: \n",
    "                                                                 4 if x == 'Gd' else\n",
    "                                                                 3 if x == 'Av' else\n",
    "                                                                 2 if x == 'Mn' else\n",
    "                                                                 1 if x == 'No' else\n",
    "                                                                 0\n",
    "                                                                )\n",
    "\n",
    "kaggle_choice['lot_shape'] = kaggle_choice.loc[:, 'lot_shape'].map(lambda x: \n",
    "                                                                 4 if x == 'Reg' else\n",
    "                                                                 3 if x == 'IR1' else\n",
    "                                                                 2 if x == 'IR2' else\n",
    "                                                                 1 if x == 'IR3' else\n",
    "                                                                 0\n",
    "                                                                )\n",
    "\n",
    "kaggle_choice['land_slope'] = kaggle_choice.loc[:, 'land_slope'].map(lambda x: \n",
    "                                                                 3 if x == 'Gtl' else\n",
    "                                                                 2 if x == 'Mod' else\n",
    "                                                                 1 if x == 'Sev' else\n",
    "                                                                 0\n",
    "                                                                )\n",
    "\n",
    "ord_feature = ['exter_qual', 'bsmt_qual', 'bsmt_cond', 'heating_qc',\n",
    "               'kitchen_qual','fireplace_qu', 'garage_qual', 'garage_cond',\n",
    "               'pool_qc', 'exter_cond'\n",
    "              ]\n",
    "\n",
    "for feature in ord_feature:\n",
    "        kaggle_choice[feature] = kaggle_choice.loc[:, feature].map(lambda x: \n",
    "                                                                 5 if x == 'Ex' else \n",
    "                                                                 4 if x == 'Gd' else \n",
    "                                                                 3 if x == 'TA' else\n",
    "                                                                 2 if x == 'Fa' else\n",
    "                                                                 1 if x == 'Po' else\n",
    "                                                                 0\n",
    "                                                                )\n",
    "\n",
    "kaggle_choice['functional'] = kaggle_choice.loc[:, 'functional'].map(lambda x: \n",
    "                                                                 8 if x == 'Typ' else \n",
    "                                                                 7 if x == 'Min1' else \n",
    "                                                                 6 if x == 'Min2' else\n",
    "                                                                 5 if x == 'Mod' else\n",
    "                                                                 4 if x == 'Maj1' else\n",
    "                                                                 3 if x == 'Maj2' else\n",
    "                                                                 2 if x == 'Sev' else\n",
    "                                                                 1 if x == 'Sal' else\n",
    "                                                                 0\n",
    "                                                                )"
   ]
  },
  {
   "cell_type": "code",
   "execution_count": 11,
   "id": "8bde5789",
   "metadata": {},
   "outputs": [
    {
     "name": "stdout",
     "output_type": "stream",
     "text": [
      "<class 'pandas.core.frame.DataFrame'>\n",
      "RangeIndex: 878 entries, 0 to 877\n",
      "Data columns (total 20 columns):\n",
      " #   Column         Non-Null Count  Dtype\n",
      "---  ------         --------------  -----\n",
      " 0   lot_shape      878 non-null    int64\n",
      " 1   land_slope     878 non-null    int64\n",
      " 2   overall_qual   878 non-null    int64\n",
      " 3   overall_cond   878 non-null    int64\n",
      " 4   exter_qual     878 non-null    int64\n",
      " 5   exter_cond     878 non-null    int64\n",
      " 6   bsmt_qual      878 non-null    int64\n",
      " 7   bsmt_cond      878 non-null    int64\n",
      " 8   bsmt_exposure  878 non-null    int64\n",
      " 9   heating_qc     878 non-null    int64\n",
      " 10  electrical     878 non-null    int64\n",
      " 11  kitchen_qual   878 non-null    int64\n",
      " 12  functional     878 non-null    int64\n",
      " 13  fireplace_qu   878 non-null    int64\n",
      " 14  garage_finish  878 non-null    int64\n",
      " 15  garage_qual    878 non-null    int64\n",
      " 16  garage_cond    878 non-null    int64\n",
      " 17  paved_drive    878 non-null    int64\n",
      " 18  pool_qc        878 non-null    int64\n",
      " 19  fence          878 non-null    int64\n",
      "dtypes: int64(20)\n",
      "memory usage: 137.3 KB\n"
     ]
    }
   ],
   "source": [
    "#double checking\n",
    "kaggle_ordinal = kaggle_choice.loc[:,[\n",
    "    'lot_shape', 'land_slope', 'overall_qual', 'overall_cond',\n",
    "    'exter_qual', 'exter_cond','bsmt_qual',\n",
    "       'bsmt_cond', 'bsmt_exposure', 'heating_qc',\n",
    "    'electrical','kitchen_qual', 'functional', 'fireplace_qu',\n",
    "    'garage_finish', 'garage_qual',\n",
    "       'garage_cond', 'paved_drive',\n",
    "    'pool_qc', 'fence']         \n",
    "]\n",
    "\n",
    "kaggle_choice[kaggle_ordinal.columns].info()"
   ]
  },
  {
   "cell_type": "code",
   "execution_count": 12,
   "id": "ac29f112",
   "metadata": {},
   "outputs": [],
   "source": [
    "feature_nominal = [\n",
    "    'ms_subclass', 'ms_zoning', 'street', 'alley',\n",
    "    'land_contour', 'lot_config', 'utilities',\n",
    "    'bldg_type', 'house_style', 'roof_style',\n",
    "    'roof_matl', 'exterior_1st', 'mas_vnr_type',\n",
    "    'foundation', 'heating', 'central_air',\n",
    "    'garage_type', 'misc_feature', 'sale_type',\n",
    "    'neighborhood'\n",
    "]\n",
    "\n",
    "kaggle_nominal_test = kaggle_choice.loc[:, feature_nominal]"
   ]
  },
  {
   "cell_type": "code",
   "execution_count": 13,
   "id": "69e29f5f",
   "metadata": {},
   "outputs": [],
   "source": [
    "def manual_dummies(DataFrame, feature_list):\n",
    "    \"\"\"Function accepts a DataFrame and a feature list to create dummies columns for the values within the features of the DataFrame.\"\"\"\n",
    "    \"\"\"Returns the modified DataFrame and prints out the value that has been dropped.\"\"\"\n",
    "    for feature in feature_list:\n",
    "        nominal_values = list(DataFrame[feature].value_counts().index)\n",
    "        for value in nominal_values[:-1]:\n",
    "            DataFrame[(str(feature) + '_' + str(value))] = DataFrame.loc[:, str(feature)].map(lambda x: 1 if x == value else 0)\n",
    "        print(f\"'{nominal_values[-1]}' was dropped from '{feature}'.\")\n",
    "        DataFrame.drop(columns = str(feature), axis = 1, inplace=True)\n",
    "    return DataFrame.columns"
   ]
  },
  {
   "cell_type": "code",
   "execution_count": 14,
   "id": "8ace6f4f",
   "metadata": {},
   "outputs": [
    {
     "name": "stdout",
     "output_type": "stream",
     "text": [
      "'40' was dropped from 'ms_subclass'.\n",
      "'I (all)' was dropped from 'ms_zoning'.\n",
      "'Grvl' was dropped from 'street'.\n",
      "'Pave' was dropped from 'alley'.\n",
      "'Low' was dropped from 'land_contour'.\n",
      "'FR3' was dropped from 'lot_config'.\n",
      "'NoSewr' was dropped from 'utilities'.\n",
      "'2fmCon' was dropped from 'bldg_type'.\n",
      "'2.5Fin' was dropped from 'house_style'.\n",
      "'Shed' was dropped from 'roof_style'.\n",
      "'Roll' was dropped from 'roof_matl'.\n",
      "'AsphShn' was dropped from 'exterior_1st'.\n",
      "'CBlock' was dropped from 'mas_vnr_type'.\n",
      "'Wood' was dropped from 'foundation'.\n",
      "'Floor' was dropped from 'heating'.\n",
      "'N' was dropped from 'central_air'.\n",
      "'CarPort' was dropped from 'garage_type'.\n",
      "'Gar2' was dropped from 'misc_feature'.\n",
      "'VWD' was dropped from 'sale_type'.\n",
      "'Blueste' was dropped from 'neighborhood'.\n"
     ]
    },
    {
     "data": {
      "text/plain": [
       "Index(['ms_subclass_20', 'ms_subclass_60', 'ms_subclass_50', 'ms_subclass_120',\n",
       "       'ms_subclass_160', 'ms_subclass_30', 'ms_subclass_70', 'ms_subclass_90',\n",
       "       'ms_subclass_80', 'ms_subclass_85',\n",
       "       ...\n",
       "       'neighborhood_NoRidge', 'neighborhood_ClearCr', 'neighborhood_SWISU',\n",
       "       'neighborhood_MeadowV', 'neighborhood_StoneBr', 'neighborhood_BrDale',\n",
       "       'neighborhood_Veenker', 'neighborhood_Blmngtn', 'neighborhood_NPkVill',\n",
       "       'neighborhood_Greens'],\n",
       "      dtype='object', length=116)"
      ]
     },
     "execution_count": 14,
     "metadata": {},
     "output_type": "execute_result"
    }
   ],
   "source": [
    "manual_dummies(kaggle_nominal_test, feature_nominal)"
   ]
  },
  {
   "cell_type": "markdown",
   "id": "8d94dc45",
   "metadata": {},
   "source": [
    "Comparing the above dropped columns with the columns dropped from Train dataset, we see different values were dropped\n"
   ]
  },
  {
   "cell_type": "markdown",
   "id": "49c48ee2",
   "metadata": {},
   "source": [
    "Columns previously dropped from Train set\n",
    "\n",
    "'150' was dropped from 'ms_subclass'.\n",
    "'I (all)' was dropped from 'ms_zoning'.\n",
    "'Grvl' was dropped from 'street'.\n",
    "'Pave' was dropped from 'alley'.\n",
    "'Low' was dropped from 'land_contour'.\n",
    "'FR3' was dropped from 'lot_config'.\n",
    "'NoSewr' was dropped from 'utilities'.\n",
    "'2fmCon' was dropped from 'bldg_type'.\n",
    "'2.5Fin' was dropped from 'house_style'.\n",
    "'Shed' was dropped from 'roof_style'.\n",
    "'ClyTile' was dropped from 'roof_matl'.\n",
    "'AsphShn' was dropped from 'exterior_1st'.\n",
    "'BrkCmn' was dropped from 'mas_vnr_type'.\n",
    "'Wood' was dropped from 'foundation'.\n",
    "'OthW' was dropped from 'heating'.\n",
    "'N' was dropped from 'central_air'.\n",
    "'CarPort' was dropped from 'garage_type'.\n",
    "'Elev' was dropped from 'misc_feature'.\n",
    "'Oth' was dropped from 'sale_type'.\n",
    "'Landmrk' was dropped from 'neighborhood'."
   ]
  },
  {
   "cell_type": "markdown",
   "id": "32ce5b2b",
   "metadata": {},
   "source": [
    "Columns dropped that are different from the Test dataset\n",
    "\n",
    "'150' was dropped from 'ms_subclass'.\n",
    "'ClyTile' was dropped from 'roof_matl'.\n",
    "'BrkCmn' was dropped from 'mas_vnr_type'.\n",
    "'OthW' was dropped from 'heating'.\n",
    "'Elev' was dropped from 'misc_feature'.\n",
    "'Oth' was dropped from 'sale_type'.\n",
    "'Landmrk' was dropped from 'neighborhood'."
   ]
  },
  {
   "cell_type": "code",
   "execution_count": 15,
   "id": "92c7ae2c",
   "metadata": {},
   "outputs": [
    {
     "data": {
      "text/plain": [
       "CompShg    861\n",
       "Tar&Grv      8\n",
       "WdShake      5\n",
       "WdShngl      2\n",
       "Metal        1\n",
       "Roll         1\n",
       "Name: roof_matl, dtype: int64"
      ]
     },
     "execution_count": 15,
     "metadata": {},
     "output_type": "execute_result"
    }
   ],
   "source": [
    "#check if the values dropped from Train dataset existed in the test dataset.\n",
    "kaggle['roof_matl'].value_counts() #Checking for 'ClyTile'. No"
   ]
  },
  {
   "cell_type": "code",
   "execution_count": 16,
   "id": "1773f9c6",
   "metadata": {},
   "outputs": [
    {
     "data": {
      "text/plain": [
       "20     309\n",
       "60     180\n",
       "50      89\n",
       "120     60\n",
       "160     41\n",
       "30      38\n",
       "70      38\n",
       "90      34\n",
       "80      32\n",
       "85      20\n",
       "190     15\n",
       "45       7\n",
       "75       7\n",
       "180      6\n",
       "40       2\n",
       "Name: ms_subclass, dtype: int64"
      ]
     },
     "execution_count": 16,
     "metadata": {},
     "output_type": "execute_result"
    }
   ],
   "source": [
    "kaggle['ms_subclass'].value_counts() #Checking for '150'. No"
   ]
  },
  {
   "cell_type": "code",
   "execution_count": 17,
   "id": "c1ff07d7",
   "metadata": {},
   "outputs": [
    {
     "data": {
      "text/plain": [
       "None       534\n",
       "BrkFace    250\n",
       "Stone       80\n",
       "BrkCmn      12\n",
       "CBlock       1\n",
       "Name: mas_vnr_type, dtype: int64"
      ]
     },
     "execution_count": 17,
     "metadata": {},
     "output_type": "execute_result"
    }
   ],
   "source": [
    "kaggle['mas_vnr_type'].value_counts() #Checking for 'BrkCmn'. Yes"
   ]
  },
  {
   "cell_type": "code",
   "execution_count": 18,
   "id": "f2dffb92",
   "metadata": {},
   "outputs": [
    {
     "data": {
      "text/plain": [
       "GasA     866\n",
       "GasW       7\n",
       "Grav       4\n",
       "Floor      1\n",
       "Name: heating, dtype: int64"
      ]
     },
     "execution_count": 18,
     "metadata": {},
     "output_type": "execute_result"
    }
   ],
   "source": [
    "kaggle['heating'].value_counts() #Checking for 'OthW'. No."
   ]
  },
  {
   "cell_type": "code",
   "execution_count": 19,
   "id": "c7bc28df",
   "metadata": {},
   "outputs": [
    {
     "data": {
      "text/plain": [
       "Shed    39\n",
       "Othr     1\n",
       "Gar2     1\n",
       "Name: misc_feature, dtype: int64"
      ]
     },
     "execution_count": 19,
     "metadata": {},
     "output_type": "execute_result"
    }
   ],
   "source": [
    "kaggle['misc_feature'].value_counts() #Checking for 'Elev'. No."
   ]
  },
  {
   "cell_type": "code",
   "execution_count": 20,
   "id": "158b980b",
   "metadata": {},
   "outputs": [
    {
     "data": {
      "text/plain": [
       "WD       755\n",
       "New       78\n",
       "COD       24\n",
       "ConLD      9\n",
       "Oth        3\n",
       "ConLw      3\n",
       "CWD        2\n",
       "ConLI      2\n",
       "Con        1\n",
       "VWD        1\n",
       "Name: sale_type, dtype: int64"
      ]
     },
     "execution_count": 20,
     "metadata": {},
     "output_type": "execute_result"
    }
   ],
   "source": [
    "kaggle['sale_type'].value_counts() #Checking for 'Oth'. Yes."
   ]
  },
  {
   "cell_type": "code",
   "execution_count": 21,
   "id": "acd2d055",
   "metadata": {},
   "outputs": [
    {
     "data": {
      "text/plain": [
       "NAmes      133\n",
       "CollgCr     87\n",
       "OldTown     76\n",
       "Somerst     52\n",
       "Edwards     50\n",
       "Gilbert     49\n",
       "NridgHt     44\n",
       "NWAmes      44\n",
       "Sawyer      40\n",
       "SawyerW     38\n",
       "Mitchel     32\n",
       "Crawfor     32\n",
       "BrkSide     32\n",
       "Timber      24\n",
       "IDOTRR      24\n",
       "NoRidge     23\n",
       "ClearCr     17\n",
       "SWISU       16\n",
       "MeadowV     13\n",
       "StoneBr     13\n",
       "BrDale      11\n",
       "Veenker      7\n",
       "Blmngtn      6\n",
       "NPkVill      6\n",
       "Greens       5\n",
       "Blueste      4\n",
       "Name: neighborhood, dtype: int64"
      ]
     },
     "execution_count": 21,
     "metadata": {},
     "output_type": "execute_result"
    }
   ],
   "source": [
    "kaggle['neighborhood'].value_counts() #Checking for 'Landmrk'. No."
   ]
  },
  {
   "cell_type": "code",
   "execution_count": 22,
   "id": "e7662266",
   "metadata": {},
   "outputs": [],
   "source": [
    "#those with values that does not exist in Test, do get_dummies without dropping first.\n",
    "#those with values in Test, do get_dummies without dropping first. Then drop the column.\n",
    "def manual_dummies_no_drop(DataFrame, feature_list):\n",
    "    \"\"\"Function accepts a DataFrame and a feature list to create dummies columns for the values within the features of the DataFrame.\"\"\"\n",
    "    \"\"\"Returns the modified DataFrame and prints out the value that has been dropped.\"\"\"\n",
    "    for feature in feature_list:\n",
    "        nominal_values = list(DataFrame[feature].value_counts().index)\n",
    "        for value in nominal_values:\n",
    "            DataFrame[(str(feature) + '_' + str(value))] = DataFrame.loc[:, str(feature)].map(lambda x: 1 if x == value else 0)\n",
    "        DataFrame.drop(columns = str(feature), axis = 1, inplace=True)\n",
    "    return DataFrame.columns"
   ]
  },
  {
   "cell_type": "code",
   "execution_count": 23,
   "id": "31d1ce1c",
   "metadata": {},
   "outputs": [],
   "source": [
    "#setting Nominal features without those exceptions\n",
    "\n",
    "feature_nominal_w_drop = [\n",
    "     'ms_zoning', 'street', 'alley',\n",
    "    'land_contour', 'lot_config', 'utilities',\n",
    "    'bldg_type', 'house_style', 'roof_style',\n",
    "     'exterior_1st', 'foundation',  'central_air',\n",
    "    'garage_type',      \n",
    "]\n",
    "\n",
    "feature_nominal_wo_drop = ['ms_subclass','roof_matl','mas_vnr_type','heating','misc_feature','sale_type','neighborhood']"
   ]
  },
  {
   "cell_type": "code",
   "execution_count": 24,
   "id": "564c6d59",
   "metadata": {},
   "outputs": [
    {
     "name": "stdout",
     "output_type": "stream",
     "text": [
      "'I (all)' was dropped from 'ms_zoning'.\n",
      "'Grvl' was dropped from 'street'.\n",
      "'Pave' was dropped from 'alley'.\n",
      "'Low' was dropped from 'land_contour'.\n",
      "'FR3' was dropped from 'lot_config'.\n",
      "'NoSewr' was dropped from 'utilities'.\n",
      "'2fmCon' was dropped from 'bldg_type'.\n",
      "'2.5Fin' was dropped from 'house_style'.\n",
      "'Shed' was dropped from 'roof_style'.\n",
      "'AsphShn' was dropped from 'exterior_1st'.\n",
      "'Wood' was dropped from 'foundation'.\n",
      "'N' was dropped from 'central_air'.\n",
      "'CarPort' was dropped from 'garage_type'.\n"
     ]
    },
    {
     "data": {
      "text/plain": [
       "Index(['lot_frontage', 'lot_area', 'mas_vnr_area', 'total_bsmt_sf',\n",
       "       'gr_liv_area', 'bsmt_full_bath', 'bsmt_half_bath', 'full_bath',\n",
       "       'half_bath', 'bedroom_abvgr',\n",
       "       ...\n",
       "       'foundation_CBlock', 'foundation_BrkTil', 'foundation_Slab',\n",
       "       'foundation_Stone', 'central_air_Y', 'garage_type_Attchd',\n",
       "       'garage_type_Detchd', 'garage_type_BuiltIn', 'garage_type_Basment',\n",
       "       'garage_type_2Types'],\n",
       "      dtype='object', length=104)"
      ]
     },
     "execution_count": 24,
     "metadata": {},
     "output_type": "execute_result"
    }
   ],
   "source": [
    "manual_dummies(kaggle_choice, feature_nominal_w_drop)"
   ]
  },
  {
   "cell_type": "code",
   "execution_count": 25,
   "id": "f4151cf3",
   "metadata": {},
   "outputs": [
    {
     "data": {
      "text/plain": [
       "Index(['lot_frontage', 'lot_area', 'mas_vnr_area', 'total_bsmt_sf',\n",
       "       'gr_liv_area', 'bsmt_full_bath', 'bsmt_half_bath', 'full_bath',\n",
       "       'half_bath', 'bedroom_abvgr',\n",
       "       ...\n",
       "       'neighborhood_ClearCr', 'neighborhood_SWISU', 'neighborhood_MeadowV',\n",
       "       'neighborhood_StoneBr', 'neighborhood_BrDale', 'neighborhood_Veenker',\n",
       "       'neighborhood_Blmngtn', 'neighborhood_NPkVill', 'neighborhood_Greens',\n",
       "       'neighborhood_Blueste'],\n",
       "      dtype='object', length=166)"
      ]
     },
     "execution_count": 25,
     "metadata": {},
     "output_type": "execute_result"
    }
   ],
   "source": [
    "manual_dummies_no_drop(kaggle_choice, feature_nominal_wo_drop)"
   ]
  },
  {
   "cell_type": "code",
   "execution_count": 26,
   "id": "a177077f",
   "metadata": {},
   "outputs": [],
   "source": [
    "kaggle_choice.drop(columns = ['mas_vnr_type_BrkCmn', 'sale_type_Oth'],axis = 1,inplace = True)"
   ]
  },
  {
   "cell_type": "code",
   "execution_count": 27,
   "id": "add69776",
   "metadata": {},
   "outputs": [],
   "source": [
    "#drop garage_cond, drop bldg type, drop pool area, drop fireplaces, drop totrms_abvgrnd, drop house_style.\n",
    "kaggle_choice.drop(columns = [\n",
    "    'garage_cond', 'pool_area', 'fireplaces','totrms_abvgrd',\n",
    "    'bldg_type_1Fam', 'bldg_type_TwnhsE', 'bldg_type_Duplex',\n",
    "    'bldg_type_Twnhs', 'house_style_1Story', 'house_style_2Story',\n",
    "    'house_style_1.5Fin', 'house_style_SLvl', 'house_style_SFoyer',\n",
    "    'house_style_2.5Unf', 'house_style_1.5Unf'],\n",
    "                 axis = 1,\n",
    "                 inplace=True,             \n",
    ")"
   ]
  },
  {
   "cell_type": "code",
   "execution_count": 28,
   "id": "bbc7f87c",
   "metadata": {},
   "outputs": [],
   "source": [
    "#dropping features from lasso zero coef\n",
    "kaggle_choice.drop(columns = [\n",
    "    'lot_frontage', 'garage_type_BuiltIn', 'garage_type_Detchd', 'garage_type_Attchd', 'central_air_Y',\n",
    " 'heating_Grav', 'heating_GasW', 'heating_GasA', 'garage_type_2Types', 'foundation_Stone', 'foundation_BrkTil',\n",
    " 'foundation_CBlock', 'mas_vnr_type_Stone', 'mas_vnr_type_BrkFace', 'mas_vnr_type_None',\n",
    " 'foundation_Slab', 'sale_type_ConLD',\n",
    " 'neighborhood_Veenker', 'neighborhood_BrDale', 'neighborhood_Blmngtn', 'neighborhood_MeadowV', 'neighborhood_ClearCr',\n",
    " 'neighborhood_SWISU', 'neighborhood_Timber', 'sale_type_WD ', 'neighborhood_IDOTRR', 'neighborhood_NWAmes',\n",
    " 'neighborhood_Sawyer', 'neighborhood_Gilbert', 'neighborhood_CollgCr', 'sale_type_ConLw', 'sale_type_ConLI',\n",
    " 'sale_type_CWD', 'neighborhood_SawyerW', 'neighborhood_Blueste', 'exterior_1st_BrkComm', 'exterior_1st_WdShing',\n",
    " 'ms_subclass_45', 'ms_subclass_85', 'ms_subclass_190', 'ms_subclass_90', 'ms_subclass_80', 'ms_subclass_50',\n",
    " 'ms_subclass_60', 'ms_subclass_40', 'fence', 'garage_qual', 'electrical', 'exter_cond', 'lot_shape',\n",
    " '3ssn_porch', 'enclosed_porch', 'bsmt_half_bath', 'paved_drive', 'exterior_1st_AsbShng', 'ms_zoning_RL',\n",
    " 'ms_zoning_RH', 'exterior_1st_Plywood', 'exterior_1st_MetalSd', 'exterior_1st_VinylSd',\n",
    " 'roof_matl_WdShake', 'roof_matl_Tar&Grv', 'roof_style_Flat', 'ms_zoning_FV', 'roof_style_Gable',\n",
    " 'utilities_AllPub', 'lot_config_FR2', 'lot_config_Inside', 'land_contour_Lvl', 'alley_Grvl', 'street_Pave', \n",
    "'neighborhood_Greens'],\n",
    "                 axis = 1,\n",
    "                 inplace=True,             \n",
    ")"
   ]
  },
  {
   "cell_type": "code",
   "execution_count": 38,
   "id": "f916bc19",
   "metadata": {},
   "outputs": [],
   "source": [
    "#import production dataset\n",
    "data_prod = pd.read_csv('datasets/data_prod.csv')\n",
    "X_prod = data_prod.drop(columns = 'saleprice', axis = 1)\n",
    "y_prod = data_prod['saleprice']"
   ]
  },
  {
   "cell_type": "code",
   "execution_count": 40,
   "id": "291303cb",
   "metadata": {},
   "outputs": [
    {
     "data": {
      "text/plain": [
       "[('lot_area', 'lot_area'),\n",
       " ('mas_vnr_area', 'mas_vnr_area'),\n",
       " ('total_bsmt_sf', 'total_bsmt_sf'),\n",
       " ('gr_liv_area', 'gr_liv_area'),\n",
       " ('bsmt_full_bath', 'bsmt_full_bath'),\n",
       " ('full_bath', 'full_bath'),\n",
       " ('half_bath', 'half_bath'),\n",
       " ('bedroom_abvgr', 'bedroom_abvgr'),\n",
       " ('kitchen_abvgr', 'kitchen_abvgr'),\n",
       " ('garage_area', 'garage_area'),\n",
       " ('wood_deck_sf', 'wood_deck_sf'),\n",
       " ('open_porch_sf', 'open_porch_sf'),\n",
       " ('screen_porch', 'screen_porch'),\n",
       " ('misc_val', 'misc_val'),\n",
       " ('land_slope', 'land_slope'),\n",
       " ('overall_qual', 'overall_qual'),\n",
       " ('overall_cond', 'overall_cond'),\n",
       " ('exter_qual', 'exter_qual'),\n",
       " ('bsmt_qual', 'bsmt_qual'),\n",
       " ('bsmt_cond', 'bsmt_cond'),\n",
       " ('bsmt_exposure', 'bsmt_exposure'),\n",
       " ('heating_qc', 'heating_qc'),\n",
       " ('kitchen_qual', 'kitchen_qual'),\n",
       " ('functional', 'functional'),\n",
       " ('fireplace_qu', 'fireplace_qu'),\n",
       " ('garage_finish', 'garage_finish'),\n",
       " ('pool_qc', 'pool_qc'),\n",
       " ('years_since_built', 'years_since_built'),\n",
       " ('years_since_remod', 'years_since_remod'),\n",
       " ('ms_zoning_RM', 'ms_subclass_20'),\n",
       " ('ms_zoning_C (all)', 'ms_subclass_120'),\n",
       " ('land_contour_Bnk', 'ms_subclass_30'),\n",
       " ('land_contour_HLS', 'ms_subclass_70'),\n",
       " ('lot_config_Corner', 'ms_subclass_160'),\n",
       " ('lot_config_CulDSac', 'ms_subclass_75'),\n",
       " ('roof_style_Hip', 'ms_subclass_180'),\n",
       " ('roof_style_Gambrel', 'ms_zoning_RM'),\n",
       " ('roof_style_Mansard', 'ms_zoning_C (all)'),\n",
       " ('exterior_1st_Wd Sdng', 'land_contour_HLS'),\n",
       " ('exterior_1st_HdBoard', 'land_contour_Bnk'),\n",
       " ('exterior_1st_CemntBd', 'lot_config_Corner'),\n",
       " ('exterior_1st_BrkFace', 'lot_config_CulDSac'),\n",
       " ('exterior_1st_Stucco', 'roof_style_Hip'),\n",
       " ('exterior_1st_PreCast', 'roof_style_Gambrel'),\n",
       " ('foundation_PConc', 'roof_style_Mansard'),\n",
       " ('garage_type_Basment', 'roof_matl_CompShg'),\n",
       " ('ms_subclass_20', 'roof_matl_WdShngl'),\n",
       " ('ms_subclass_120', 'exterior_1st_HdBoard'),\n",
       " ('ms_subclass_160', 'exterior_1st_Wd Sdng'),\n",
       " ('ms_subclass_30', 'exterior_1st_CemntBd'),\n",
       " ('ms_subclass_70', 'exterior_1st_BrkFace'),\n",
       " ('ms_subclass_75', 'exterior_1st_Stucco'),\n",
       " ('ms_subclass_180', 'foundation_PConc'),\n",
       " ('roof_matl_CompShg', 'heating_Wall'),\n",
       " ('roof_matl_WdShngl', 'garage_type_Basment'),\n",
       " ('roof_matl_Metal', 'misc_feature_Shed'),\n",
       " ('roof_matl_Roll', 'misc_feature_Gar2'),\n",
       " ('mas_vnr_type_CBlock', 'misc_feature_Othr'),\n",
       " ('heating_Floor', 'sale_type_New'),\n",
       " ('misc_feature_Shed', 'sale_type_COD'),\n",
       " ('misc_feature_Othr', 'sale_type_Con'),\n",
       " ('misc_feature_Gar2', 'neighborhood_NAmes'),\n",
       " ('sale_type_New', 'neighborhood_OldTown'),\n",
       " ('sale_type_COD', 'neighborhood_Edwards'),\n",
       " ('sale_type_Con', 'neighborhood_Somerst'),\n",
       " ('sale_type_VWD', 'neighborhood_NridgHt'),\n",
       " ('neighborhood_NAmes', 'neighborhood_Mitchel'),\n",
       " ('neighborhood_OldTown', 'neighborhood_BrkSide'),\n",
       " ('neighborhood_Somerst', 'neighborhood_Crawfor'),\n",
       " ('neighborhood_Edwards', 'neighborhood_NoRidge'),\n",
       " ('neighborhood_NridgHt', 'neighborhood_StoneBr'),\n",
       " ('neighborhood_Mitchel', 'neighborhood_NPkVill'),\n",
       " ('neighborhood_Crawfor', 'neighborhood_GrnHill')]"
      ]
     },
     "execution_count": 40,
     "metadata": {},
     "output_type": "execute_result"
    }
   ],
   "source": [
    "#compare between Test columns and Train columns\n",
    "list(zip(kaggle_choice.columns,X_prod.columns))"
   ]
  },
  {
   "cell_type": "code",
   "execution_count": 41,
   "id": "3d62df27",
   "metadata": {},
   "outputs": [],
   "source": [
    "#features missing to add\n",
    "kaggle_choice['heating_Wall'] = 0\n",
    "kaggle_choice['neighborhood_GrnHill'] = 0\n",
    "\n",
    "#features extra to remove from test set\n",
    "\n",
    "kaggle_choice.drop(columns = [\n",
    "    'exterior_1st_PreCast', 'roof_matl_Metal', 'roof_matl_Roll','mas_vnr_type_CBlock','heating_Floor','sale_type_VWD'],\n",
    "                  axis = 1,\n",
    "                   inplace = True,\n",
    "                  )"
   ]
  },
  {
   "cell_type": "code",
   "execution_count": 48,
   "id": "12784d95",
   "metadata": {},
   "outputs": [
    {
     "data": {
      "text/plain": [
       "Index(['lot_area', 'mas_vnr_area', 'total_bsmt_sf', 'gr_liv_area',\n",
       "       'bsmt_full_bath', 'full_bath', 'half_bath', 'bedroom_abvgr',\n",
       "       'kitchen_abvgr', 'garage_area', 'wood_deck_sf', 'open_porch_sf',\n",
       "       'screen_porch', 'misc_val', 'land_slope', 'overall_qual',\n",
       "       'overall_cond', 'exter_qual', 'bsmt_qual', 'bsmt_cond', 'bsmt_exposure',\n",
       "       'heating_qc', 'kitchen_qual', 'functional', 'fireplace_qu',\n",
       "       'garage_finish', 'pool_qc', 'years_since_built', 'years_since_remod',\n",
       "       'ms_subclass_20', 'ms_subclass_120', 'ms_subclass_30', 'ms_subclass_70',\n",
       "       'ms_subclass_160', 'ms_subclass_75', 'ms_subclass_180', 'ms_zoning_RM',\n",
       "       'ms_zoning_C (all)', 'land_contour_HLS', 'land_contour_Bnk',\n",
       "       'lot_config_Corner', 'lot_config_CulDSac', 'roof_style_Hip',\n",
       "       'roof_style_Gambrel', 'roof_style_Mansard', 'roof_matl_CompShg',\n",
       "       'roof_matl_WdShngl', 'exterior_1st_HdBoard', 'exterior_1st_Wd Sdng',\n",
       "       'exterior_1st_CemntBd', 'exterior_1st_BrkFace', 'exterior_1st_Stucco',\n",
       "       'foundation_PConc', 'heating_Wall', 'garage_type_Basment',\n",
       "       'misc_feature_Shed', 'misc_feature_Gar2', 'misc_feature_Othr',\n",
       "       'sale_type_New', 'sale_type_COD', 'sale_type_Con', 'neighborhood_NAmes',\n",
       "       'neighborhood_OldTown', 'neighborhood_Edwards', 'neighborhood_Somerst',\n",
       "       'neighborhood_NridgHt', 'neighborhood_Mitchel', 'neighborhood_BrkSide',\n",
       "       'neighborhood_Crawfor', 'neighborhood_NoRidge', 'neighborhood_StoneBr',\n",
       "       'neighborhood_NPkVill', 'neighborhood_GrnHill'],\n",
       "      dtype='object')"
      ]
     },
     "execution_count": 48,
     "metadata": {},
     "output_type": "execute_result"
    }
   ],
   "source": [
    "X_prod.columns"
   ]
  },
  {
   "cell_type": "code",
   "execution_count": 50,
   "id": "d2f20cf6",
   "metadata": {},
   "outputs": [
    {
     "data": {
      "text/plain": [
       "Ridge(alpha=335.1602650938841)"
      ]
     },
     "execution_count": 50,
     "metadata": {},
     "output_type": "execute_result"
    }
   ],
   "source": [
    "#training the whole train dataset (train + holdout)\n",
    "X_prod = data_prod.drop(columns = 'saleprice', axis = 1)\n",
    "y_prod = data_prod['saleprice']\n",
    "X_test = kaggle_choice.loc[:,['lot_area', 'mas_vnr_area', 'total_bsmt_sf', 'gr_liv_area',\n",
    "       'bsmt_full_bath', 'full_bath', 'half_bath', 'bedroom_abvgr',\n",
    "       'kitchen_abvgr', 'garage_area', 'wood_deck_sf', 'open_porch_sf',\n",
    "       'screen_porch', 'misc_val', 'land_slope', 'overall_qual',\n",
    "       'overall_cond', 'exter_qual', 'bsmt_qual', 'bsmt_cond', 'bsmt_exposure',\n",
    "       'heating_qc', 'kitchen_qual', 'functional', 'fireplace_qu',\n",
    "       'garage_finish', 'pool_qc', 'years_since_built', 'years_since_remod',\n",
    "       'ms_subclass_20', 'ms_subclass_120', 'ms_subclass_30', 'ms_subclass_70',\n",
    "       'ms_subclass_160', 'ms_subclass_75', 'ms_subclass_180', 'ms_zoning_RM',\n",
    "       'ms_zoning_C (all)', 'land_contour_HLS', 'land_contour_Bnk',\n",
    "       'lot_config_Corner', 'lot_config_CulDSac', 'roof_style_Hip',\n",
    "       'roof_style_Gambrel', 'roof_style_Mansard', 'roof_matl_CompShg',\n",
    "       'roof_matl_WdShngl', 'exterior_1st_HdBoard', 'exterior_1st_Wd Sdng',\n",
    "       'exterior_1st_CemntBd', 'exterior_1st_BrkFace', 'exterior_1st_Stucco',\n",
    "       'foundation_PConc', 'heating_Wall', 'garage_type_Basment',\n",
    "       'misc_feature_Shed', 'misc_feature_Gar2', 'misc_feature_Othr',\n",
    "       'sale_type_New', 'sale_type_COD', 'sale_type_Con', 'neighborhood_NAmes',\n",
    "       'neighborhood_OldTown', 'neighborhood_Edwards', 'neighborhood_Somerst',\n",
    "       'neighborhood_NridgHt', 'neighborhood_Mitchel', 'neighborhood_BrkSide',\n",
    "       'neighborhood_Crawfor', 'neighborhood_NoRidge', 'neighborhood_StoneBr',\n",
    "       'neighborhood_NPkVill', 'neighborhood_GrnHill']]\n",
    "\n",
    "#Standardize\n",
    "ss_prod = StandardScaler()\n",
    "Z_prod = ss_prod.fit_transform(X_prod)\n",
    "Z_test = ss_prod.transform(X_test)\n",
    "\n",
    "alpha_ridge = 335.1602650938841\n",
    "ridge_prod = Ridge(alpha=alpha_ridge)\n",
    "\n",
    "ridge_prod.fit(Z_prod, y_prod)"
   ]
  },
  {
   "cell_type": "code",
   "execution_count": 51,
   "id": "c961b5fc",
   "metadata": {},
   "outputs": [
    {
     "data": {
      "text/plain": [
       "array([130408.49185086, 162040.36719309, 227504.36962095, 108961.62970651,\n",
       "       190428.16288363,  84966.96910722,  98874.90148221, 162930.55016227,\n",
       "       180968.66063375, 158355.53415876, 145959.16814963, 118161.21021804,\n",
       "       148252.25718914, 278621.19782042, 142571.81211217, 126770.43617396,\n",
       "       176294.29033445, 122583.19062022, 185787.18296308, 191199.67311864,\n",
       "       168090.01666065, 134863.68567411, 182111.73260969, 164532.00003185,\n",
       "       187249.35749305, 123706.48238861, 136363.25949781, 128312.90648318,\n",
       "       169424.7736463 ,  46512.08314275,  99782.47271914,  99640.77046442,\n",
       "       188376.51415056, 150341.74187185, 229368.25510723, 184394.32837064,\n",
       "       106132.73752293,  73382.06077265, 137051.77072007, 206373.3449153 ,\n",
       "       182473.39536626, 205578.86947514, 149483.63744359, 164773.74155913,\n",
       "       210281.27679862,  93472.51866605, 227517.43966071, 123158.89554654,\n",
       "       136355.8180514 , 119086.47706969,  91689.31650883, 202953.94851669,\n",
       "       245970.97103886, 123664.29623829,  96650.92984728, 156941.78121046,\n",
       "       168106.61271518, 144940.71764825, 153127.02010077, 228907.54756932,\n",
       "       314296.42339227, 138460.29345067, 158247.87982812, 149591.7604552 ,\n",
       "       179286.70792991, 333732.3417733 ,  72821.34043773, 228781.75450698,\n",
       "        71947.96304903, 158657.09479414,  99200.34250523, 345167.50151418,\n",
       "       200913.12512318, 181416.6934133 , 143769.9977968 , 204264.49571344,\n",
       "       131760.15525032, 134168.82206648,  86594.68127161, 360014.76505097,\n",
       "       210449.38477237, 134589.95367425, 134166.47663214, 123374.99094147,\n",
       "       229137.00765352, 358582.59821208, 129032.26108441, 182349.41239497,\n",
       "       236950.57638977, 132425.12397419, 132179.90164065, 102329.33665559,\n",
       "       109236.8042698 , 248007.35704227, 122954.75448441, 129680.22976703,\n",
       "       212654.35736125, 237584.28523518, 196943.09758063, 212812.22358801,\n",
       "       302817.12230175, 169055.82896588, 127159.97341597, 396035.40214825,\n",
       "       147459.52987534, 104140.23687957, 171944.79680571, 194534.74528426,\n",
       "       176267.93989369, 118421.96518409, 192906.39423234, 228527.18116962,\n",
       "        87017.64181311, 127852.04786813, 235069.54039889, 443688.39468544,\n",
       "       152997.88626476, 101965.20285581, 304959.13051112, 190762.91873133,\n",
       "       370912.91386273, 323256.75673018, 315659.36721185, 163362.69081987,\n",
       "       162706.2186083 , 355434.95054136, 126930.25379824, 129862.98925696,\n",
       "       132889.46842712, 264810.5742987 , 140135.60097321, 198298.90656535,\n",
       "       131477.20502162, 169804.74938304, 156337.91325393, 225597.0656689 ,\n",
       "       218714.25144918, 183697.24358843, 241512.34238707, 128476.00421118,\n",
       "       191869.86602179, 151894.55618403, 124819.21530309, 161309.46011073,\n",
       "        88658.4328166 , 135812.60692136, 144411.77192956, 144639.0512965 ,\n",
       "        65678.83265555, 221043.83223317, 194914.84342807, 147531.04460004,\n",
       "        97592.80880229, 119429.68889014, 127700.82915169, 132461.10248691,\n",
       "        71843.18465686, 139190.92321706, 242148.84880344, 264453.30750249,\n",
       "       225409.91983512, 106253.75457783, 117660.62360714, 417451.34867045,\n",
       "       280705.76809197, 239455.93480939, 166224.45047322, 165603.98232316,\n",
       "       264140.36445291, 196677.26417919, 377677.87544797, 133715.47632536,\n",
       "       174168.93410594, 161849.50395323, 206651.57200332, 165425.55955117,\n",
       "        96744.75908803, 156165.09755742,  81672.05715567, 157047.68624762,\n",
       "       133148.60017682, 189966.55613884, 247015.44203996, 198711.84351314,\n",
       "       161991.97287939, 107827.00820759, 205029.95710584, 192673.12732532,\n",
       "       124527.29489059,  39237.55705338, 186589.02758511, 138143.74555395,\n",
       "       105781.47025241,  99830.13992195, 200950.17220767, 176077.64905626,\n",
       "       292334.53662091, 136433.42234074, 123082.62741001, 112476.30598245,\n",
       "       334898.50445666, 176909.67091148, 121850.55518989, 183156.45853762,\n",
       "       118883.27308429,  98471.17367366, 144025.64850783, 143872.2559412 ,\n",
       "       227722.04158368, 239251.40410196, 187128.68956494, 201092.20966076,\n",
       "       115822.02451957, 358416.51964661, 241747.98946363, 188175.9903628 ,\n",
       "       206699.86996419, 149632.14866666, 121715.40513607, 169704.95134603,\n",
       "       191551.20920595, 127985.10362723, 173672.33516882, 201877.48957572,\n",
       "       137005.6359104 , 112076.65850537, 251663.66523472, 217889.19947673,\n",
       "       167007.1675545 , 298206.20954428, 146469.35360191,  90360.41300682,\n",
       "       134892.85534741,  89803.22270411, 217946.60385564, 161912.84276724,\n",
       "        95659.19118767, 383988.01796385, 327291.04493465, 195163.42592013,\n",
       "       251608.57412137, 154011.2651363 , 310477.88210753, 230622.4211628 ,\n",
       "       299836.27642667, 266194.30489607, 113778.95152921, 115933.50038963,\n",
       "       180093.06371602, 310150.5965416 , 300704.8095026 , 128115.04767254,\n",
       "       221212.34912735, 235757.36506486, 182249.33736131, 108763.77015789,\n",
       "        79008.60065506, 402435.33263794, 220571.75247919, 260796.33467157,\n",
       "       197002.3368251 , 127597.73951477,  97899.88266206, 169368.80205723,\n",
       "       254332.44007386, 145906.80267527, 137305.55165323, 209702.18391738,\n",
       "       211039.52974503, 137572.68291225, 182087.82962346, 208048.92113431,\n",
       "       165926.13817061, 307544.67104529, 117292.340957  , 147575.6018393 ,\n",
       "       146806.76742906, 204471.48739531,  97421.03897589,  99890.83833324,\n",
       "       248465.81561048, 127145.50224446, 111022.43585607,  92937.51438717,\n",
       "       124978.31736203, 252148.04294266, 202485.54821576,  93450.71193352,\n",
       "        86845.59975575, 136649.73906168,  98085.77140756, 123031.88769165,\n",
       "        72772.24369092, 107040.1556276 , 166141.71915648, 153425.67689033,\n",
       "       220185.46637746, 275786.57705115, 250884.87291041, 170926.6654901 ,\n",
       "       190731.2847349 , 322420.83740916, 125140.96513935, 128304.57634163,\n",
       "        68700.94784514,  88766.57540434, 305990.88338581, 222184.04902933,\n",
       "       142074.11137225, 123477.53500081, 228780.92359745, 243285.3346186 ,\n",
       "       237768.9585457 , 271582.5149604 , 116711.31010379, 349385.3467296 ,\n",
       "       368543.04065696, 261097.74681831, 231072.98229959, 129066.26902614,\n",
       "        64805.9283041 , 125301.76758329, 166332.06173743, 272318.40937878,\n",
       "       135196.05502302, 119984.35893101, 157647.88740933, 181120.04705018,\n",
       "       208177.16313408, 136749.70996475, 168574.58101325, 182676.13178738,\n",
       "       135693.11570458, 180938.64330471,  95913.47499552, 149194.84800536,\n",
       "        84515.44040504, 122903.03068455, 136977.84676666, 168842.31105167,\n",
       "       208543.44206384,  91716.74643251, 193765.03419471, 177235.38680923,\n",
       "       281616.53676887, 241362.49294714, 173523.96223587,  96510.04282694,\n",
       "       220198.71834593, 158757.7419669 , 140830.05729165, 159268.39291094,\n",
       "       103443.22536443, 295555.42446246, 133462.52531581, 221529.40701361,\n",
       "       145714.68718102, 216878.32812111, 242606.95836215, 114180.64061301,\n",
       "       131018.57651434, 135929.7797163 ,  69161.07525151, 154481.58951444,\n",
       "       203794.94088691, 281671.45174312, 243311.86580454, 219848.40763302,\n",
       "       205533.62892233, 118433.57660136, 201912.70033783, 103558.15509136,\n",
       "       153376.04126767, 363388.49844191, 131142.59053999, 291396.81460732,\n",
       "       186919.67281853, 285030.3272765 , 230688.24672415, 128172.35473231,\n",
       "       162271.72727124, 124012.56515643, 335329.77666328, 327560.94030928,\n",
       "       219610.28027063, 188949.73918438, 143253.46505675, 196240.07346675,\n",
       "       147639.45509814, 115763.02934143,  89097.66981763, 325528.15343034,\n",
       "       171259.59069239, 132613.93161662, 178794.56735657,  48341.46921787,\n",
       "       202880.79204451, 201393.31768805, 144203.4580291 ,  93064.17501025,\n",
       "       188270.86750758, 235595.58708888, 139942.15763975, 296293.32895109,\n",
       "       133375.1574272 , 121716.6921404 , 147486.09596728, 240827.31766529,\n",
       "       307503.44809455, 124829.06396292, 101249.43199261, 134277.14484871,\n",
       "       232212.52833211, 117438.7799521 , 248415.99269139, 329270.66796905,\n",
       "       127671.47475375, 203221.55063899, 104069.47881257, 154709.56522895,\n",
       "       248531.64216125, 118847.74381642, 229962.65076368, 128480.73015492,\n",
       "       227822.57357979, 378378.06509384, 188717.68861644, 209465.26962586,\n",
       "       146334.32294245, 269507.446128  , 112148.46594952, 151315.08049296,\n",
       "       119359.51831841, 210793.5042424 , 108427.33665833, 335940.20910121,\n",
       "       228813.01736258, 178209.68179771, 155627.52858663, 147390.82189449,\n",
       "       210268.70887327, 137374.62719305, 111792.40208003, 180882.02086879,\n",
       "       161229.64458213, 217429.85968971,  35412.73681608, 109194.05231308,\n",
       "       303567.44530666, 148324.88536427, 228066.81422884, 268945.63520277,\n",
       "       246307.736026  , 155985.28327524, 210775.74494364, 228304.18355865,\n",
       "       232255.57408702, 109361.62345624, 228951.03734717, 126095.68112609,\n",
       "       143431.81218043, 118628.68967239, 143123.21306796, 501968.90992972,\n",
       "       121988.03533897, 225069.64072809, 261413.07960031, 229018.17668488,\n",
       "       107766.6628781 , 121886.57702705, 155639.65773028, 243379.60604974,\n",
       "       175789.49011958, 106853.62649043, 232145.32511264, 235041.99159992,\n",
       "       102650.88902775, 133779.87769428, 100165.93978944, 203361.47927814,\n",
       "        77560.25440927, 213825.29325808, 117966.54802087, 175865.64197144,\n",
       "       276779.45572799, 149355.80030882, 163303.85733489, 190878.28694338,\n",
       "       190475.79981233, 139967.34908845, 126573.03409676, 222626.91548876,\n",
       "       168572.70043863, 218542.03167409, 355214.7730772 , 176402.46852248,\n",
       "        96892.24296661, 132328.23801251, 178058.65713514, 118461.94281202,\n",
       "       188420.02318058, 219932.28363194, 198370.03826967, 148560.67959149,\n",
       "       242163.12770985, 151199.98990123, 253343.16395116, 111675.40312668,\n",
       "       121823.0449748 , 258782.67674636, 120441.23522416, 113173.60215048,\n",
       "       129007.10577592, 147873.70886818,  48956.97864924, 187788.99876823,\n",
       "       151233.8502868 , 217613.98757519, 279110.14008299, 276407.02551578,\n",
       "       106945.49671326, 128494.05797906, 129942.56494526, 128633.44435819,\n",
       "       220673.36410224, 411850.38440833, 180955.87968518,  99126.16597671,\n",
       "       128080.16046644,  40347.91924011, 107778.5836711 , 213224.3953425 ,\n",
       "       143758.90562405, 187388.43603187, 195852.08654084, 151962.29003671,\n",
       "        72609.47962183, 224139.91014839, 144752.0602075 , 167818.78437913,\n",
       "       142162.86571418, 102133.59945965,  86926.58393822, 141881.40895397,\n",
       "       231325.17547674, 329505.68274259, 236861.88176276, 123924.70602016,\n",
       "        88301.40402049, 304755.64613593, 127424.92767921, 316148.98903699,\n",
       "        76916.8503246 , 206426.05964002, 233468.9966606 ,  81817.38711149,\n",
       "       108401.08460848, 145643.4712695 ,  88508.77066147, 174410.42883797,\n",
       "        98512.42067823, 167112.43247556, 180558.34936735, 151415.72592981,\n",
       "       132865.71857916, 154664.89762138, 136286.7074933 , 222788.37801701,\n",
       "       134645.94917241, 170057.04217934, 176073.84811495, 133992.65694263,\n",
       "       105905.35849528, 144600.36428768, 177494.15001803, 120476.86451341,\n",
       "       175251.58676475, 145902.26458916, 198172.23083016, 105118.39202019,\n",
       "       150078.9689206 , 171030.73127516, 315750.50272645, 104010.11856515,\n",
       "       139751.68279957, 173367.89845496, 150738.42425647, 122703.36109914,\n",
       "       277588.30764013, 232426.12915034, 125778.6775853 , 105973.35952297,\n",
       "       134373.31216057, 130578.60241412, 319350.23123021, 218937.10995744,\n",
       "       135809.1413137 , 138064.1867847 , 108330.4668969 , 364247.02627122,\n",
       "       132880.18632369, 205298.43121037, 110670.45375923, 189462.47876063,\n",
       "       226946.46108779,  96787.36739458, 129447.69170747, 115106.64471369,\n",
       "       163538.39588942, 119281.66141671, 117480.72359032, 332181.01717606,\n",
       "       224745.05352176, 159581.17703039, 131949.20196603,  20399.31861198,\n",
       "       211130.31498474, 264202.06867333,  53326.87849385, 166912.22438359,\n",
       "       209851.16621237,  93340.0989991 , 137926.68463076, 113497.6537233 ,\n",
       "       154519.64423379, 146006.52142241, 197816.06113933, 117061.86254209,\n",
       "       323389.75466728, 157274.58008084, 188237.01050899, 196583.11003804,\n",
       "       143448.27690295,  60454.94708702, 151008.91893385, 203041.90931204,\n",
       "       133294.43059112, 157924.4400199 , 143011.82591555, 153056.74614835,\n",
       "       308182.43194322, 130128.47533816, 236137.04307816, 271031.84178243,\n",
       "       148620.93671544,  72185.14280501, 242707.98095925, 183102.86622043,\n",
       "       124654.3711806 , 190154.52888333, 144487.41135829, 116113.64065327,\n",
       "       117269.27696107, 154628.86734336,  78577.89947309, 154056.67258109,\n",
       "       211892.91965901, 141586.21268639, 278731.01010322, 184670.29324535,\n",
       "       157801.56993695, 144719.69652418, 176884.70390486, 219243.35841769,\n",
       "       374277.18273263, 226099.40068052, 189509.83136377, 179377.76891179,\n",
       "       172063.23166219, 263949.37810702, 224895.66746843, 233227.47206172,\n",
       "       261601.37076328, 140381.74086806, 110950.59911606, 134316.50188234,\n",
       "       133060.80579379,  86908.25444552, 153734.46248891, 110702.80480752,\n",
       "       336712.65474283, 210219.52662339, 179719.93165513, 240291.6858479 ,\n",
       "       190383.9238863 , 148988.67772987, 203129.61029558, 402508.32160314,\n",
       "       176993.21200446, 179054.16326117,  82442.83325643, 137402.25557917,\n",
       "       296979.8795501 , 127840.59628877, 195472.54250297, 167868.34951224,\n",
       "       231323.62962385, 347810.06675089, 101664.19207692, 256127.66424035,\n",
       "       157942.41673867, 151069.35847909, 142877.76689551, 127322.36649272,\n",
       "       278669.42944213, 263428.40763084, 155631.3364772 , 136831.98013082,\n",
       "       106321.57358647, 318166.66382075, 221740.45620987,  91754.75528357,\n",
       "       124098.87858242, 138418.99687156, 119225.76184832, 214809.65495388,\n",
       "       293840.21130748, 213533.97444787, 196244.83121589, 208238.67491434,\n",
       "       216135.00440585, 271408.37038149, 147431.42134418, 121340.18196551,\n",
       "       305766.89825074, 202583.80662822, 186168.23627434, 150768.69560954,\n",
       "       284831.97714047,  79710.76014529, 246802.67533598, 195967.1704869 ,\n",
       "       253377.5116554 , 151579.22419264, 177153.19449913, 146440.61521369,\n",
       "       130662.23563528, 150791.55010569, 136589.82385233, 125606.25978543,\n",
       "       226236.3120343 , 205317.01326384, 154145.06322383, 102522.16683835,\n",
       "       195304.0601294 , 176999.23551698, 180383.4283693 , 211215.5979657 ,\n",
       "       103873.37809976, 306465.77382397, 247708.10835777, 137424.34652742,\n",
       "       139266.70764929, 170053.37676903, 164148.36342417, 117794.00731212,\n",
       "       406059.48021941,  74135.38314252, 146496.76968865, 245241.05501734,\n",
       "       153044.46398019, 225428.94651708, 126345.46092955, 255403.77368134,\n",
       "       154904.48261758, 279795.32453755, 167008.89806575, 204474.54111127,\n",
       "       287841.5980552 , 161466.60043613, 266962.99532745, 177567.52090976,\n",
       "       131497.23118144, 216616.31314375, 138055.46678239, 142551.72021205,\n",
       "       234542.25364911,  46710.94096686, 137309.44149848, 176978.22039372,\n",
       "       183155.83846942, 402956.2397727 ,  95525.08949875, 129137.31108812,\n",
       "       131270.96641463, 167917.80111496, 267291.68934086, 113039.15794429,\n",
       "       265463.07824095, 178227.88109661, 196049.37308697, 230015.80109214,\n",
       "       186856.54369337, 294148.06801485, 161504.20639033, 186757.53338491,\n",
       "       131990.00171383, 258601.20409061, 238345.42216406, 210540.65066387,\n",
       "       133397.416824  , 107045.20376427, 163613.07884018,  78403.7961803 ,\n",
       "       244784.66334719, 116098.57489045, 132831.88813172, 190996.96813979,\n",
       "       152881.02137238, 116786.51425339, 145096.15137723, 324541.09311191,\n",
       "       180281.34791846, 157108.96448949, 245884.76798298, 218080.03186629,\n",
       "       214002.43345463,  70375.78650497, 129869.47773448, 164934.68677867,\n",
       "       166770.79702112, 107263.79796705, 355726.97128189, 126480.2254215 ,\n",
       "       180067.78242148, 213942.7969635 , 325864.5286795 , 143839.59421515,\n",
       "       171413.89870224, 154667.24743108, 163285.76032172, 146520.01851067,\n",
       "       271531.83052498, 232506.23006097, 172609.75019827, 139868.02428772,\n",
       "       339662.0189424 , 153322.10445204, 133549.87282612, 123886.72692422,\n",
       "       200849.04879581, 199943.05589046, 226753.97704803, 141447.93635195,\n",
       "       176189.1883939 , 175542.42224905, 243329.97608092, 235553.29080395,\n",
       "       101534.00754699, 162571.12529879, 158938.32549195, 183896.8152288 ,\n",
       "       140374.39654165, 143305.3254915 , 180038.59434606,  98467.83069593,\n",
       "       234970.61507015, 112035.36522661, 197925.68748115, 102882.90598696,\n",
       "       332380.16468424, 129595.86578446,  99465.00145286, 181889.03954506,\n",
       "       177763.14521423, 193746.89654137, 196584.78984885, 253322.74748426,\n",
       "       181131.35331354, 191013.40454457, 243449.59420488, 351708.53535472,\n",
       "       201038.07692308, 175185.22641989, 220255.00284459, 129771.58827005,\n",
       "       100186.05865905, 122208.27727768])"
      ]
     },
     "execution_count": 51,
     "metadata": {},
     "output_type": "execute_result"
    }
   ],
   "source": [
    "ridge_prod.predict(Z_test)"
   ]
  },
  {
   "cell_type": "code",
   "execution_count": 53,
   "id": "df7af812",
   "metadata": {},
   "outputs": [
    {
     "data": {
      "text/html": [
       "<div>\n",
       "<style scoped>\n",
       "    .dataframe tbody tr th:only-of-type {\n",
       "        vertical-align: middle;\n",
       "    }\n",
       "\n",
       "    .dataframe tbody tr th {\n",
       "        vertical-align: top;\n",
       "    }\n",
       "\n",
       "    .dataframe thead th {\n",
       "        text-align: right;\n",
       "    }\n",
       "</style>\n",
       "<table border=\"1\" class=\"dataframe\">\n",
       "  <thead>\n",
       "    <tr style=\"text-align: right;\">\n",
       "      <th></th>\n",
       "      <th>SalePrice</th>\n",
       "    </tr>\n",
       "    <tr>\n",
       "      <th>id</th>\n",
       "      <th></th>\n",
       "    </tr>\n",
       "  </thead>\n",
       "  <tbody>\n",
       "    <tr>\n",
       "      <th>2658</th>\n",
       "      <td>130408.491851</td>\n",
       "    </tr>\n",
       "    <tr>\n",
       "      <th>2718</th>\n",
       "      <td>162040.367193</td>\n",
       "    </tr>\n",
       "    <tr>\n",
       "      <th>2414</th>\n",
       "      <td>227504.369621</td>\n",
       "    </tr>\n",
       "    <tr>\n",
       "      <th>1989</th>\n",
       "      <td>108961.629707</td>\n",
       "    </tr>\n",
       "    <tr>\n",
       "      <th>625</th>\n",
       "      <td>190428.162884</td>\n",
       "    </tr>\n",
       "    <tr>\n",
       "      <th>...</th>\n",
       "      <td>...</td>\n",
       "    </tr>\n",
       "    <tr>\n",
       "      <th>1662</th>\n",
       "      <td>175185.226420</td>\n",
       "    </tr>\n",
       "    <tr>\n",
       "      <th>1234</th>\n",
       "      <td>220255.002845</td>\n",
       "    </tr>\n",
       "    <tr>\n",
       "      <th>1373</th>\n",
       "      <td>129771.588270</td>\n",
       "    </tr>\n",
       "    <tr>\n",
       "      <th>1672</th>\n",
       "      <td>100186.058659</td>\n",
       "    </tr>\n",
       "    <tr>\n",
       "      <th>1939</th>\n",
       "      <td>122208.277278</td>\n",
       "    </tr>\n",
       "  </tbody>\n",
       "</table>\n",
       "<p>878 rows × 1 columns</p>\n",
       "</div>"
      ],
      "text/plain": [
       "          SalePrice\n",
       "id                 \n",
       "2658  130408.491851\n",
       "2718  162040.367193\n",
       "2414  227504.369621\n",
       "1989  108961.629707\n",
       "625   190428.162884\n",
       "...             ...\n",
       "1662  175185.226420\n",
       "1234  220255.002845\n",
       "1373  129771.588270\n",
       "1672  100186.058659\n",
       "1939  122208.277278\n",
       "\n",
       "[878 rows x 1 columns]"
      ]
     },
     "execution_count": 53,
     "metadata": {},
     "output_type": "execute_result"
    }
   ],
   "source": [
    "submit = pd.DataFrame(ridge_prod.predict(Z_test), index = kaggle['id'], columns = ['SalePrice'])\n",
    "\n",
    "submit"
   ]
  },
  {
   "cell_type": "code",
   "execution_count": 54,
   "id": "e1ea8bf0",
   "metadata": {},
   "outputs": [],
   "source": [
    "submit.to_csv('../project_2/datasets/submit.csv')"
   ]
  },
  {
   "cell_type": "markdown",
   "id": "79b58e30",
   "metadata": {},
   "source": [
    "Kaggle Score\n",
    "\n",
    "Score: 24052.28611\n",
    "Public score: 33203.03021"
   ]
  },
  {
   "cell_type": "code",
   "execution_count": null,
   "id": "b504c36c",
   "metadata": {},
   "outputs": [],
   "source": []
  }
 ],
 "metadata": {
  "kernelspec": {
   "display_name": "Python 3 (ipykernel)",
   "language": "python",
   "name": "python3"
  },
  "language_info": {
   "codemirror_mode": {
    "name": "ipython",
    "version": 3
   },
   "file_extension": ".py",
   "mimetype": "text/x-python",
   "name": "python",
   "nbconvert_exporter": "python",
   "pygments_lexer": "ipython3",
   "version": "3.8.12"
  }
 },
 "nbformat": 4,
 "nbformat_minor": 5
}
