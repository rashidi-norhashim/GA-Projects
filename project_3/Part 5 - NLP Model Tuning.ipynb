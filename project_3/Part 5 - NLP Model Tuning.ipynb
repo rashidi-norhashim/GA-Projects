{
 "cells": [
  {
   "cell_type": "markdown",
   "metadata": {},
   "source": [
    "<img src=\"http://imgur.com/1ZcRyrc.png\" style=\"float: left; margin: 20px; height: 55px\">\n",
    "\n",
    "# Project 3: Using Natural Language Processing (NLP) Modelling to Predict Desktop CPU Brand Popularity"
   ]
  },
  {
   "cell_type": "markdown",
   "metadata": {},
   "source": [
    "# Part 5 - NLP Model Tuning\n",
    "- [Feature Engineering](#Feature-Engineering)<br>\n",
    "    - [Lemmatizing/Stemming](#Lemmatizing/Stemming)<br>\n",
    "    - [Stopwords Engineering](#Stopwords-Engineering)<br>\n",
    "- [Hyperparameter Tuning](#Hyperparameter-Tuning)\n",
    "    - [Logistic Regression Hyperparameter Tuning](#Logistic-Regression-Hyperparameter-Tuning)\n",
    "    - [TfidfVectorizer Hyperparameter Tuning](#TfidfVectorizer-Hyperparameter-Tuning)"
   ]
  },
  {
   "cell_type": "code",
   "execution_count": 1,
   "metadata": {},
   "outputs": [],
   "source": [
    "#imports\n",
    "import pandas as pd\n",
    "import seaborn as sns\n",
    "import matplotlib.pyplot as plt\n",
    "import numpy as np\n",
    "import spacy\n",
    "\n",
    "from sklearn.model_selection import train_test_split, GridSearchCV\n",
    "from sklearn.pipeline import Pipeline\n",
    "from sklearn.naive_bayes import MultinomialNB\n",
    "from sklearn.linear_model import LogisticRegression\n",
    "from sklearn.metrics import confusion_matrix, plot_confusion_matrix\n",
    "from sklearn.feature_extraction.text import CountVectorizer, TfidfVectorizer\n",
    "from sklearn.model_selection import GridSearchCV, train_test_split, cross_val_score\n",
    "from sklearn.ensemble import RandomForestClassifier, ExtraTreesClassifier\n",
    "from nltk import word_tokenize          \n",
    "from nltk.stem import WordNetLemmatizer\n",
    "from nltk.stem.porter import PorterStemmer\n",
    "\n",
    "import re"
   ]
  },
  {
   "cell_type": "code",
   "execution_count": 2,
   "metadata": {},
   "outputs": [],
   "source": [
    "#read the train_df Data\n",
    "df = pd.read_csv('./train_csv.csv')"
   ]
  },
  {
   "cell_type": "code",
   "execution_count": 3,
   "metadata": {},
   "outputs": [],
   "source": [
    "#loading the english language small model of spacy\n",
    "en = spacy.load('en_core_web_sm')\n",
    "sw_spacy = en.Defaults.stop_words\n",
    "\n",
    "#saving to a list variable in order to add more words to the list\n",
    "sw_spacy = list(sw_spacy)\n",
    "\n",
    "#creating a new list of stopwords and removing those with apostrophe as those will be removed by the tokenizers anyways\n",
    "new_spacy = []\n",
    "for word in sw_spacy:\n",
    "    if \"'\" not in word:\n",
    "        new_spacy.append(word)\n",
    "\n",
    "new_spacy.append('amd')    #adding dead giveaway words\n",
    "new_spacy.append('intel')\n",
    "new_spacy.append('ll')     #adding words that caused Warnings when running a model\n",
    "new_spacy.append('ve')\n",
    "new_spacy.append('nt')"
   ]
  },
  {
   "cell_type": "markdown",
   "metadata": {},
   "source": [
    "---"
   ]
  },
  {
   "cell_type": "markdown",
   "metadata": {},
   "source": [
    "# Feature Engineering"
   ]
  },
  {
   "cell_type": "markdown",
   "metadata": {},
   "source": [
    "## Lemmatizing/Stemming"
   ]
  },
  {
   "cell_type": "markdown",
   "metadata": {},
   "source": [
    "Firstly, we will try to improve on our model by lemm/stem. do note that from our exploratory data analysis earlier we noted that lemmed/stemed words does not make up the top words within each of the subreddits and as such, is predicted to not improve on our accuracy score."
   ]
  },
  {
   "cell_type": "code",
   "execution_count": 4,
   "metadata": {},
   "outputs": [],
   "source": [
    "#creating a Lemmatize Tokenizer object to input into our vectorizers\n",
    "class LemmaTokenizer(object):\n",
    "    def __init__(self):\n",
    "        self.wnl = WordNetLemmatizer()\n",
    "    def __call__(self, articles):\n",
    "        regex_punctuation = '[^\\w\\s]'\n",
    "        return [self.wnl.lemmatize(t) for t in word_tokenize(articles) if not re.search(regex_punctuation, t)]"
   ]
  },
  {
   "cell_type": "code",
   "execution_count": 5,
   "metadata": {},
   "outputs": [],
   "source": [
    "X = df['text']\n",
    "y = df['subreddit_isAMD']\n",
    "\n",
    "X_train, X_test, y_train, y_test = train_test_split(\n",
    "    X,\n",
    "    y,\n",
    "    test_size = 0.1,\n",
    "    random_state = 123,\n",
    "    stratify = y,\n",
    ")"
   ]
  },
  {
   "cell_type": "code",
   "execution_count": 6,
   "metadata": {},
   "outputs": [
    {
     "name": "stderr",
     "output_type": "stream",
     "text": [
      "C:\\Users\\rashi\\Anaconda3\\envs\\dsi\\lib\\site-packages\\sklearn\\feature_extraction\\text.py:396: UserWarning: Your stop_words may be inconsistent with your preprocessing. Tokenizing the stop words generated tokens ['d', 'doe', 'ha', 'le', 'm', 'n', 's', 't', 'u', 'wa'] not in stop_words.\n",
      "  warnings.warn(\n"
     ]
    },
    {
     "data": {
      "text/html": [
       "<div>\n",
       "<style scoped>\n",
       "    .dataframe tbody tr th:only-of-type {\n",
       "        vertical-align: middle;\n",
       "    }\n",
       "\n",
       "    .dataframe tbody tr th {\n",
       "        vertical-align: top;\n",
       "    }\n",
       "\n",
       "    .dataframe thead th {\n",
       "        text-align: right;\n",
       "    }\n",
       "</style>\n",
       "<table border=\"1\" class=\"dataframe\">\n",
       "  <thead>\n",
       "    <tr style=\"text-align: right;\">\n",
       "      <th></th>\n",
       "      <th>Vectorizer</th>\n",
       "      <th>Classifier</th>\n",
       "      <th>Cross-Val Score</th>\n",
       "      <th>Train Score</th>\n",
       "      <th>Test Score</th>\n",
       "      <th>params</th>\n",
       "    </tr>\n",
       "  </thead>\n",
       "  <tbody>\n",
       "    <tr>\n",
       "      <th>0</th>\n",
       "      <td>TfidfVectorizer(tokenizer=&lt;__main__.LemmaToken...</td>\n",
       "      <td>LogisticRegression(max_iter=5000)</td>\n",
       "      <td>0.916149</td>\n",
       "      <td>0.947059</td>\n",
       "      <td>0.911133</td>\n",
       "      <td>{'tvec__max_features': 5000, 'tvec__ngram_rang...</td>\n",
       "    </tr>\n",
       "  </tbody>\n",
       "</table>\n",
       "</div>"
      ],
      "text/plain": [
       "                                          Vectorizer  \\\n",
       "0  TfidfVectorizer(tokenizer=<__main__.LemmaToken...   \n",
       "\n",
       "                          Classifier  Cross-Val Score  Train Score  \\\n",
       "0  LogisticRegression(max_iter=5000)         0.916149     0.947059   \n",
       "\n",
       "   Test Score                                             params  \n",
       "0    0.911133  {'tvec__max_features': 5000, 'tvec__ngram_rang...  "
      ]
     },
     "execution_count": 6,
     "metadata": {},
     "output_type": "execute_result"
    }
   ],
   "source": [
    "pipe = Pipeline([\n",
    "    ('tvec', TfidfVectorizer(tokenizer=LemmaTokenizer())),\n",
    "    ('lr', LogisticRegression(max_iter = 5_000))\n",
    "])\n",
    "\n",
    "\n",
    "pipe_params = {\n",
    "    'tvec__max_features': [5_000],\n",
    "    'tvec__stop_words' : [new_spacy],\n",
    "    'tvec__ngram_range': [(1,1), (1,2), (1,3)]\n",
    "}\n",
    "\n",
    "gs = GridSearchCV(pipe, \n",
    "                  param_grid=pipe_params,\n",
    "                  cv=5,\n",
    "                  n_jobs= -1,\n",
    "                  ) \n",
    "gs.fit(X_train, y_train)\n",
    "\n",
    "performance_df = pd.DataFrame()\n",
    "df_temp = pd.DataFrame({'Vectorizer': [str(pipe[0])], 'Classifier': [str(pipe[1])], 'Cross-Val Score': [gs.best_score_], 'Train Score': [gs.score(X_train, y_train)], 'Test Score':[gs.score(X_test, y_test)], 'params': [str(gs.best_params_)]})\n",
    "performance_df = pd.concat([performance_df, df_temp], ignore_index = True, axis = 0)\n",
    "performance_df"
   ]
  },
  {
   "cell_type": "code",
   "execution_count": 7,
   "metadata": {},
   "outputs": [],
   "source": [
    "#creating a Stemming Tokenizer object to input into our vectorizers\n",
    "class StemTokenizer(object):\n",
    "    def __init__(self):\n",
    "        self.prt = PorterStemmer()\n",
    "    def __call__(self, articles):\n",
    "        regex_punctuation = '[^\\w\\s]'\n",
    "        return [self.prt.stem(t) for t in word_tokenize(articles) if not re.search(regex_punctuation, t)]"
   ]
  },
  {
   "cell_type": "code",
   "execution_count": 8,
   "metadata": {},
   "outputs": [
    {
     "name": "stderr",
     "output_type": "stream",
     "text": [
      "C:\\Users\\rashi\\Anaconda3\\envs\\dsi\\lib\\site-packages\\sklearn\\feature_extraction\\text.py:396: UserWarning: Your stop_words may be inconsistent with your preprocessing. Tokenizing the stop words generated tokens ['abov', 'afterward', 'alon', 'alreadi', 'alway', 'ani', 'anoth', 'anyon', 'anyth', 'anywher', 'becam', 'becaus', 'becom', 'befor', 'besid', 'd', 'doe', 'dure', 'els', 'elsewher', 'empti', 'everi', 'everyon', 'everyth', 'everywher', 'fifti', 'formerli', 'forti', 'ha', 'henc', 'hereaft', 'herebi', 'hi', 'howev', 'hundr', 'inde', 'latterli', 'm', 'mani', 'meanwhil', 'moreov', 'mostli', 'n', 'nobodi', 'noon', 'noth', 'nowher', 'onc', 'onli', 'otherwis', 'ourselv', 'perhap', 'pleas', 'quit', 'realli', 'regard', 's', 'seriou', 'sever', 'sinc', 'sixti', 'someon', 'someth', 'sometim', 'somewher', 't', 'themselv', 'thenc', 'thereaft', 'therebi', 'therefor', 'thi', 'thu', 'togeth', 'twelv', 'twenti', 'use', 'variou', 'veri', 'wa', 'whatev', 'whenc', 'whenev', 'wherea', 'whereaft', 'wherebi', 'wherev', 'whi', 'yourselv'] not in stop_words.\n",
      "  warnings.warn(\n"
     ]
    },
    {
     "data": {
      "text/html": [
       "<div>\n",
       "<style scoped>\n",
       "    .dataframe tbody tr th:only-of-type {\n",
       "        vertical-align: middle;\n",
       "    }\n",
       "\n",
       "    .dataframe tbody tr th {\n",
       "        vertical-align: top;\n",
       "    }\n",
       "\n",
       "    .dataframe thead th {\n",
       "        text-align: right;\n",
       "    }\n",
       "</style>\n",
       "<table border=\"1\" class=\"dataframe\">\n",
       "  <thead>\n",
       "    <tr style=\"text-align: right;\">\n",
       "      <th></th>\n",
       "      <th>Vectorizer</th>\n",
       "      <th>Classifier</th>\n",
       "      <th>Cross-Val Score</th>\n",
       "      <th>Train Score</th>\n",
       "      <th>Test Score</th>\n",
       "      <th>params</th>\n",
       "    </tr>\n",
       "  </thead>\n",
       "  <tbody>\n",
       "    <tr>\n",
       "      <th>0</th>\n",
       "      <td>TfidfVectorizer(tokenizer=&lt;__main__.LemmaToken...</td>\n",
       "      <td>LogisticRegression(max_iter=5000)</td>\n",
       "      <td>0.916149</td>\n",
       "      <td>0.947059</td>\n",
       "      <td>0.911133</td>\n",
       "      <td>{'tvec__max_features': 5000, 'tvec__ngram_rang...</td>\n",
       "    </tr>\n",
       "    <tr>\n",
       "      <th>1</th>\n",
       "      <td>TfidfVectorizer(tokenizer=&lt;__main__.StemTokeni...</td>\n",
       "      <td>LogisticRegression(max_iter=5000)</td>\n",
       "      <td>0.917037</td>\n",
       "      <td>0.947225</td>\n",
       "      <td>0.915127</td>\n",
       "      <td>{'tvec__max_features': 5000, 'tvec__ngram_rang...</td>\n",
       "    </tr>\n",
       "  </tbody>\n",
       "</table>\n",
       "</div>"
      ],
      "text/plain": [
       "                                          Vectorizer  \\\n",
       "0  TfidfVectorizer(tokenizer=<__main__.LemmaToken...   \n",
       "1  TfidfVectorizer(tokenizer=<__main__.StemTokeni...   \n",
       "\n",
       "                          Classifier  Cross-Val Score  Train Score  \\\n",
       "0  LogisticRegression(max_iter=5000)         0.916149     0.947059   \n",
       "1  LogisticRegression(max_iter=5000)         0.917037     0.947225   \n",
       "\n",
       "   Test Score                                             params  \n",
       "0    0.911133  {'tvec__max_features': 5000, 'tvec__ngram_rang...  \n",
       "1    0.915127  {'tvec__max_features': 5000, 'tvec__ngram_rang...  "
      ]
     },
     "execution_count": 8,
     "metadata": {},
     "output_type": "execute_result"
    }
   ],
   "source": [
    "X = df['text']\n",
    "y = df['subreddit_isAMD']\n",
    "\n",
    "X_train, X_test, y_train, y_test = train_test_split(\n",
    "    X,\n",
    "    y,\n",
    "    test_size = 0.1,\n",
    "    random_state = 123,\n",
    "    stratify = y,\n",
    ")\n",
    "\n",
    "pipe = Pipeline([\n",
    "    ('tvec', TfidfVectorizer(tokenizer=StemTokenizer())),\n",
    "    ('lr', LogisticRegression(max_iter = 5_000))\n",
    "])\n",
    "\n",
    "\n",
    "pipe_params = {\n",
    "    'tvec__max_features': [5_000],\n",
    "    'tvec__stop_words' : [new_spacy],\n",
    "    'tvec__ngram_range': [(1,1), (1,2), (1,3)]\n",
    "}\n",
    "\n",
    "gs = GridSearchCV(pipe, \n",
    "                  param_grid=pipe_params, \n",
    "                  cv=5,\n",
    "                  n_jobs= -1,\n",
    "                  ) \n",
    "gs.fit(X_train, y_train)\n",
    "\n",
    "df_temp = pd.DataFrame({'Vectorizer': [str(pipe[0])], 'Classifier': [str(pipe[1])], 'Cross-Val Score': [gs.best_score_], 'Train Score': [gs.score(X_train, y_train)], 'Test Score':[gs.score(X_test, y_test)], 'params': [str(gs.best_params_)]})\n",
    "performance_df = pd.concat([performance_df, df_temp], ignore_index = True, axis = 0)\n",
    "performance_df\n"
   ]
  },
  {
   "cell_type": "markdown",
   "metadata": {},
   "source": [
    "As predicted from EDA, lemmatizing/stemming words did not lead to a better model. As we can see from the resulting accuracy scores, lemm/stemming our tokens does not help for our model/dataset. As mentioned, this may be due to the fact that the top words in our datasets are brand specific product model names/SKUs without any lemma."
   ]
  },
  {
   "cell_type": "markdown",
   "metadata": {},
   "source": [
    "---"
   ]
  },
  {
   "cell_type": "markdown",
   "metadata": {},
   "source": [
    "## Stopwords Engineering"
   ]
  },
  {
   "cell_type": "markdown",
   "metadata": {},
   "source": [
    "Next, we will be looking at the words within the texts that were wrongly misclassified to see if adding those words to the stopwords will help in improving our model accuracy score. The hypothesis behind this is that those wrongly classified texts should contain \"noisy\" words that overpowers the more descriptive words. Removing these from the model will decrease false negatives and false positives and thus, increase our accuracy score."
   ]
  },
  {
   "cell_type": "code",
   "execution_count": 9,
   "metadata": {},
   "outputs": [
    {
     "data": {
      "text/html": [
       "<div>\n",
       "<style scoped>\n",
       "    .dataframe tbody tr th:only-of-type {\n",
       "        vertical-align: middle;\n",
       "    }\n",
       "\n",
       "    .dataframe tbody tr th {\n",
       "        vertical-align: top;\n",
       "    }\n",
       "\n",
       "    .dataframe thead th {\n",
       "        text-align: right;\n",
       "    }\n",
       "</style>\n",
       "<table border=\"1\" class=\"dataframe\">\n",
       "  <thead>\n",
       "    <tr style=\"text-align: right;\">\n",
       "      <th></th>\n",
       "      <th>Vectorizer</th>\n",
       "      <th>Classifier</th>\n",
       "      <th>Cross-Val Score</th>\n",
       "      <th>Train Score</th>\n",
       "      <th>Test Score</th>\n",
       "      <th>params</th>\n",
       "    </tr>\n",
       "  </thead>\n",
       "  <tbody>\n",
       "    <tr>\n",
       "      <th>0</th>\n",
       "      <td>TfidfVectorizer()</td>\n",
       "      <td>LogisticRegression(max_iter=5000)</td>\n",
       "      <td>0.927358</td>\n",
       "      <td>0.957103</td>\n",
       "      <td>0.929106</td>\n",
       "      <td>{'tvec__max_features': 5000, 'tvec__ngram_rang...</td>\n",
       "    </tr>\n",
       "  </tbody>\n",
       "</table>\n",
       "</div>"
      ],
      "text/plain": [
       "          Vectorizer                         Classifier  Cross-Val Score  \\\n",
       "0  TfidfVectorizer()  LogisticRegression(max_iter=5000)         0.927358   \n",
       "\n",
       "   Train Score  Test Score                                             params  \n",
       "0     0.957103    0.929106  {'tvec__max_features': 5000, 'tvec__ngram_rang...  "
      ]
     },
     "execution_count": 9,
     "metadata": {},
     "output_type": "execute_result"
    }
   ],
   "source": [
    "X = df['text']\n",
    "y = df['subreddit_isAMD']\n",
    "\n",
    "X_train, X_test, y_train, y_test = train_test_split(\n",
    "    X,\n",
    "    y,\n",
    "    test_size = 0.1,\n",
    "    random_state = 123,\n",
    "    stratify = y,\n",
    ")\n",
    "\n",
    "pipe = Pipeline([\n",
    "    ('tvec', TfidfVectorizer()),\n",
    "    ('lr', LogisticRegression(max_iter = 5_000))\n",
    "])\n",
    "\n",
    "pipe_params = {\n",
    "    'tvec__max_features': [5000],\n",
    "    'tvec__stop_words' : [new_spacy],\n",
    "    'tvec__ngram_range': [(1,1)]\n",
    "}\n",
    "\n",
    "gs = GridSearchCV(\n",
    "    pipe,\n",
    "    param_grid=pipe_params,\n",
    "    cv = 5,\n",
    "    n_jobs= -1,\n",
    ")\n",
    "\n",
    "# Fit GridSearch to training data.\n",
    "gs.fit(X_train, y_train)\n",
    "\n",
    "performance_df = pd.DataFrame()\n",
    "df_temp = pd.DataFrame({'Vectorizer': [str(pipe[0])], 'Classifier': [str(pipe[1])], 'Cross-Val Score': [gs.best_score_], 'Train Score': [gs.score(X_train, y_train)], 'Test Score':[gs.score(X_test, y_test)], 'params': [str(gs.best_params_)]})\n",
    "performance_df = pd.concat([performance_df, df_temp], ignore_index = True, axis = 0)\n",
    "performance_df"
   ]
  },
  {
   "cell_type": "code",
   "execution_count": 10,
   "metadata": {},
   "outputs": [
    {
     "data": {
      "text/html": [
       "<div>\n",
       "<style scoped>\n",
       "    .dataframe tbody tr th:only-of-type {\n",
       "        vertical-align: middle;\n",
       "    }\n",
       "\n",
       "    .dataframe tbody tr th {\n",
       "        vertical-align: top;\n",
       "    }\n",
       "\n",
       "    .dataframe thead th {\n",
       "        text-align: right;\n",
       "    }\n",
       "</style>\n",
       "<table border=\"1\" class=\"dataframe\">\n",
       "  <thead>\n",
       "    <tr style=\"text-align: right;\">\n",
       "      <th></th>\n",
       "      <th>Word</th>\n",
       "      <th>LogReg Coeff</th>\n",
       "    </tr>\n",
       "  </thead>\n",
       "  <tbody>\n",
       "    <tr>\n",
       "      <th>3925</th>\n",
       "      <td>ryzen</td>\n",
       "      <td>11.905499</td>\n",
       "    </tr>\n",
       "    <tr>\n",
       "      <th>478</th>\n",
       "      <td>5800x</td>\n",
       "      <td>7.209633</td>\n",
       "    </tr>\n",
       "    <tr>\n",
       "      <th>485</th>\n",
       "      <td>5900x</td>\n",
       "      <td>6.645801</td>\n",
       "    </tr>\n",
       "    <tr>\n",
       "      <th>4934</th>\n",
       "      <td>x570</td>\n",
       "      <td>6.470062</td>\n",
       "    </tr>\n",
       "    <tr>\n",
       "      <th>465</th>\n",
       "      <td>5600x</td>\n",
       "      <td>6.320156</td>\n",
       "    </tr>\n",
       "  </tbody>\n",
       "</table>\n",
       "</div>"
      ],
      "text/plain": [
       "       Word  LogReg Coeff\n",
       "3925  ryzen     11.905499\n",
       "478   5800x      7.209633\n",
       "485   5900x      6.645801\n",
       "4934   x570      6.470062\n",
       "465   5600x      6.320156"
      ]
     },
     "execution_count": 10,
     "metadata": {},
     "output_type": "execute_result"
    }
   ],
   "source": [
    "#Extracting the Logreg Coef for the features in the model\n",
    "coef_df = []\n",
    "for x,y in zip(gs.best_estimator_[0].get_feature_names_out(), gs.best_estimator_[1].coef_.tolist()[0]):\n",
    "    coef_df.append([x, y])\n",
    "\n",
    "logreg_coef = pd.DataFrame(coef_df, columns = ['Word', 'LogReg Coeff'])\n",
    "\n",
    "logreg_coef.sort_values('LogReg Coeff', ascending=False).head()"
   ]
  },
  {
   "cell_type": "code",
   "execution_count": 11,
   "metadata": {},
   "outputs": [],
   "source": [
    "# create a dataframe to contain the posts, actual reddit and predicted reddit\n",
    "y_test_pred_df = pd.DataFrame()\n",
    "y_test_pred_df['index'] = y_test.index\n",
    "y_test_pred_df['isAMD_true'] = y_test.values\n",
    "y_test_pred_df['isAMD_pred'] = gs.predict(X_test)\n",
    "y_test_pred_df.set_index('index', drop= True, inplace=True)\n",
    "y_test_pred_df = pd.concat([y_test_pred_df, pd.DataFrame(X_test)], axis = 1)"
   ]
  },
  {
   "cell_type": "code",
   "execution_count": 12,
   "metadata": {},
   "outputs": [
    {
     "data": {
      "text/html": [
       "<div>\n",
       "<style scoped>\n",
       "    .dataframe tbody tr th:only-of-type {\n",
       "        vertical-align: middle;\n",
       "    }\n",
       "\n",
       "    .dataframe tbody tr th {\n",
       "        vertical-align: top;\n",
       "    }\n",
       "\n",
       "    .dataframe thead th {\n",
       "        text-align: right;\n",
       "    }\n",
       "</style>\n",
       "<table border=\"1\" class=\"dataframe\">\n",
       "  <thead>\n",
       "    <tr style=\"text-align: right;\">\n",
       "      <th></th>\n",
       "      <th>isAMD_true</th>\n",
       "      <th>isAMD_pred</th>\n",
       "      <th>text</th>\n",
       "    </tr>\n",
       "  </thead>\n",
       "  <tbody>\n",
       "    <tr>\n",
       "      <th>0</th>\n",
       "      <td>1</td>\n",
       "      <td>0</td>\n",
       "      <td>When will Zen 2 6W TDP 7nm chips be out? AMD 3...</td>\n",
       "    </tr>\n",
       "    <tr>\n",
       "      <th>1</th>\n",
       "      <td>1</td>\n",
       "      <td>0</td>\n",
       "      <td>Rx 6900 + 12900K or 3080 Ti + 11900K Hey wassu...</td>\n",
       "    </tr>\n",
       "    <tr>\n",
       "      <th>2</th>\n",
       "      <td>1</td>\n",
       "      <td>0</td>\n",
       "      <td>Which build would you go with for a really lon...</td>\n",
       "    </tr>\n",
       "    <tr>\n",
       "      <th>3</th>\n",
       "      <td>1</td>\n",
       "      <td>0</td>\n",
       "      <td>Intel Cooler I7-11700F Trays CPU frequency: 2....</td>\n",
       "    </tr>\n",
       "    <tr>\n",
       "      <th>4</th>\n",
       "      <td>1</td>\n",
       "      <td>0</td>\n",
       "      <td>Best motherboard brands when it comes to after...</td>\n",
       "    </tr>\n",
       "  </tbody>\n",
       "</table>\n",
       "</div>"
      ],
      "text/plain": [
       "   isAMD_true  isAMD_pred                                               text\n",
       "0           1           0  When will Zen 2 6W TDP 7nm chips be out? AMD 3...\n",
       "1           1           0  Rx 6900 + 12900K or 3080 Ti + 11900K Hey wassu...\n",
       "2           1           0  Which build would you go with for a really lon...\n",
       "3           1           0  Intel Cooler I7-11700F Trays CPU frequency: 2....\n",
       "4           1           0  Best motherboard brands when it comes to after..."
      ]
     },
     "execution_count": 12,
     "metadata": {},
     "output_type": "execute_result"
    }
   ],
   "source": [
    "#extracting the False negative and False Positive posts (misclassified posts)\n",
    "fn_df = y_test_pred_df[(y_test_pred_df['isAMD_true'] == 1) & (y_test_pred_df['isAMD_pred'] == 0)]\n",
    "fn_df.reset_index(drop= True, inplace= True)\n",
    "fp_df = y_test_pred_df[(y_test_pred_df['isAMD_true'] == 0) & (y_test_pred_df['isAMD_pred'] == 1)]\n",
    "fp_df.reset_index(drop= True, inplace= True)\n",
    "misclass_df = pd.concat([fn_df, fp_df], axis = 0).reset_index(drop=True)\n",
    "misclass_df.head()"
   ]
  },
  {
   "cell_type": "code",
   "execution_count": 13,
   "metadata": {},
   "outputs": [],
   "source": [
    "#tokenizing the text column\n",
    "cvec = CountVectorizer(stop_words = new_spacy)\n",
    "missclass_token = cvec.fit_transform(misclass_df['text'])\n",
    "\n",
    "X_df = pd.DataFrame.sparse.from_spmatrix(\n",
    "    missclass_token,\n",
    "    columns=cvec.get_feature_names_out(),\n",
    ")\n",
    "\n",
    "X_df = pd.DataFrame({'Word':X_df.sum().index, 'Count':X_df.sum().values})\n",
    "\n",
    "#creating a new df with abs() logreg coeff\n",
    "missclass_word = X_df.merge(logreg_coef, on = 'Word', how = 'left')\n",
    "missclass_word.dropna(inplace=True)\n",
    "missclass_word['LogReg Coeff'] = missclass_word['LogReg Coeff'].abs()"
   ]
  },
  {
   "cell_type": "code",
   "execution_count": 14,
   "metadata": {},
   "outputs": [],
   "source": [
    "#Normalizing the axes and plotting the scatterplot\n",
    "missclass_word['Count'] = missclass_word['Count'].map(lambda x: (x - missclass_word['Count'].min()) / (missclass_word['Count'].max() - missclass_word['Count'].min()))\n",
    "missclass_word['LogReg Coeff'] = missclass_word['LogReg Coeff'].map(lambda x: (x - missclass_word['LogReg Coeff'].min()) / (missclass_word['LogReg Coeff'].max() - missclass_word['LogReg Coeff'].min()))\n"
   ]
  },
  {
   "cell_type": "code",
   "execution_count": 15,
   "metadata": {},
   "outputs": [
    {
     "data": {
      "text/plain": [
       "<Figure size 720x720 with 0 Axes>"
      ]
     },
     "metadata": {},
     "output_type": "display_data"
    },
    {
     "data": {
      "image/png": "[encoded data removed]",
      "text/plain": [
       "<Figure size 720x720 with 1 Axes>"
      ]
     },
     "metadata": {
      "needs_background": "light"
     },
     "output_type": "display_data"
    }
   ],
   "source": [
    "plt.figure(figsize = [10,10]);\n",
    "missclass_word.plot(x = 'Count', y = 'LogReg Coeff', kind='scatter', s = 2, figsize = (10,10), fontsize = 10);\n",
    "plt.title('LogReg Coeff for Words from Misclassified Posts vs Count, Normalized', size = 20);\n",
    "plt.axhline(y=0.1, color = 'red');"
   ]
  },
  {
   "cell_type": "markdown",
   "metadata": {},
   "source": [
    "We will be extracting the words with low coeff (below 0.1) and adding that to the stop words to improve our model. The reasoning behind this is that we want to remove the \"noise\" generated from those words as a high number of counts of these words in a text can overpower the more descriptive words (strong LogReg Coeff)."
   ]
  },
  {
   "cell_type": "code",
   "execution_count": 16,
   "metadata": {},
   "outputs": [],
   "source": [
    "new_spacy.extend(missclass_word[(missclass_word['LogReg Coeff'] < 0.1)]['Word'].values.tolist())"
   ]
  },
  {
   "cell_type": "code",
   "execution_count": 17,
   "metadata": {},
   "outputs": [
    {
     "data": {
      "text/html": [
       "<div>\n",
       "<style scoped>\n",
       "    .dataframe tbody tr th:only-of-type {\n",
       "        vertical-align: middle;\n",
       "    }\n",
       "\n",
       "    .dataframe tbody tr th {\n",
       "        vertical-align: top;\n",
       "    }\n",
       "\n",
       "    .dataframe thead th {\n",
       "        text-align: right;\n",
       "    }\n",
       "</style>\n",
       "<table border=\"1\" class=\"dataframe\">\n",
       "  <thead>\n",
       "    <tr style=\"text-align: right;\">\n",
       "      <th></th>\n",
       "      <th>Vectorizer</th>\n",
       "      <th>Classifier</th>\n",
       "      <th>Cross-Val Score</th>\n",
       "      <th>Train Score</th>\n",
       "      <th>Test Score</th>\n",
       "      <th>params</th>\n",
       "    </tr>\n",
       "  </thead>\n",
       "  <tbody>\n",
       "    <tr>\n",
       "      <th>0</th>\n",
       "      <td>TfidfVectorizer()</td>\n",
       "      <td>LogisticRegression(max_iter=5000)</td>\n",
       "      <td>0.927358</td>\n",
       "      <td>0.957103</td>\n",
       "      <td>0.929106</td>\n",
       "      <td>{'tvec__max_features': 5000, 'tvec__ngram_rang...</td>\n",
       "    </tr>\n",
       "    <tr>\n",
       "      <th>1</th>\n",
       "      <td>TfidfVectorizer()</td>\n",
       "      <td>LogisticRegression(max_iter=5000)</td>\n",
       "      <td>0.934351</td>\n",
       "      <td>0.962209</td>\n",
       "      <td>0.931103</td>\n",
       "      <td>{'tvec__max_features': 5000, 'tvec__ngram_rang...</td>\n",
       "    </tr>\n",
       "  </tbody>\n",
       "</table>\n",
       "</div>"
      ],
      "text/plain": [
       "          Vectorizer                         Classifier  Cross-Val Score  \\\n",
       "0  TfidfVectorizer()  LogisticRegression(max_iter=5000)         0.927358   \n",
       "1  TfidfVectorizer()  LogisticRegression(max_iter=5000)         0.934351   \n",
       "\n",
       "   Train Score  Test Score                                             params  \n",
       "0     0.957103    0.929106  {'tvec__max_features': 5000, 'tvec__ngram_rang...  \n",
       "1     0.962209    0.931103  {'tvec__max_features': 5000, 'tvec__ngram_rang...  "
      ]
     },
     "execution_count": 17,
     "metadata": {},
     "output_type": "execute_result"
    }
   ],
   "source": [
    "X = df['text']\n",
    "y = df['subreddit_isAMD']\n",
    "\n",
    "X_train, X_test, y_train, y_test = train_test_split(\n",
    "    X,\n",
    "    y,\n",
    "    test_size = 0.1,\n",
    "    random_state = 123,\n",
    "    stratify = y,\n",
    ")\n",
    "\n",
    "pipe = Pipeline([\n",
    "    ('tvec', TfidfVectorizer()),\n",
    "    ('lr', LogisticRegression(max_iter = 5_000))\n",
    "])\n",
    "\n",
    "pipe_params = {\n",
    "    'tvec__max_features': [5000],\n",
    "    'tvec__stop_words' : [new_spacy],\n",
    "    'tvec__ngram_range': [(1,1)]\n",
    "}\n",
    "\n",
    "gs = GridSearchCV(\n",
    "    pipe,\n",
    "    param_grid=pipe_params,\n",
    "    cv = 5,\n",
    "    n_jobs= -1,\n",
    ")\n",
    "\n",
    "# Fit GridSearch to training data.\n",
    "gs.fit(X_train, y_train)\n",
    "\n",
    "df_temp = pd.DataFrame({'Vectorizer': [str(pipe[0])], 'Classifier': [str(pipe[1])], 'Cross-Val Score': [gs.best_score_], 'Train Score': [gs.score(X_train, y_train)], 'Test Score':[gs.score(X_test, y_test)], 'params': [str(gs.best_params_)]})\n",
    "performance_df = pd.concat([performance_df, df_temp], ignore_index = True, axis = 0)\n",
    "performance_df"
   ]
  },
  {
   "cell_type": "markdown",
   "metadata": {},
   "source": [
    "Our model improved after adding those words with low coef from the misclassified texts into our stop words"
   ]
  },
  {
   "cell_type": "code",
   "execution_count": 18,
   "metadata": {},
   "outputs": [],
   "source": [
    "#exporting our additional stopwords\n",
    "stopwords_missclass = missclass_word[(missclass_word['LogReg Coeff'] < 0.1)]\n",
    "stopwords_missclass.to_csv('stopwords_csv.csv', index=False)"
   ]
  },
  {
   "cell_type": "markdown",
   "metadata": {},
   "source": [
    "---"
   ]
  },
  {
   "cell_type": "markdown",
   "metadata": {},
   "source": [
    "# Hyperparameter Tuning"
   ]
  },
  {
   "cell_type": "markdown",
   "metadata": {},
   "source": [
    "**Hyperparameters Table**<br>\n",
    "\n",
    "The chosen model and vectorizer will now have its hyperparameter tuned in order to obtain the best combination of hyperparameters that can yield the highest accuracy score. The parameter range inputs are as per the table below"
   ]
  },
  {
   "attachments": {
    "nlp_hyper.png": {
     "image/png": "[encoded data removed]"
    }
   },
   "cell_type": "markdown",
   "metadata": {},
   "source": [
    "![nlp_hyper.png](attachment:nlp_hyper.png)"
   ]
  },
  {
   "cell_type": "markdown",
   "metadata": {},
   "source": [
    "---\n"
   ]
  },
  {
   "cell_type": "markdown",
   "metadata": {},
   "source": [
    "### TfidfVectorizer Hyperparameter Tuning"
   ]
  },
  {
   "cell_type": "markdown",
   "metadata": {},
   "source": [
    "#### max_features"
   ]
  },
  {
   "cell_type": "code",
   "execution_count": 26,
   "metadata": {},
   "outputs": [
    {
     "data": {
      "text/html": [
       "<div>\n",
       "<style scoped>\n",
       "    .dataframe tbody tr th:only-of-type {\n",
       "        vertical-align: middle;\n",
       "    }\n",
       "\n",
       "    .dataframe tbody tr th {\n",
       "        vertical-align: top;\n",
       "    }\n",
       "\n",
       "    .dataframe thead th {\n",
       "        text-align: right;\n",
       "    }\n",
       "</style>\n",
       "<table border=\"1\" class=\"dataframe\">\n",
       "  <thead>\n",
       "    <tr style=\"text-align: right;\">\n",
       "      <th></th>\n",
       "      <th>Vectorizer</th>\n",
       "      <th>Classifier</th>\n",
       "      <th>Cross-Val Score</th>\n",
       "      <th>Train Score</th>\n",
       "      <th>Test Score</th>\n",
       "      <th>params</th>\n",
       "    </tr>\n",
       "  </thead>\n",
       "  <tbody>\n",
       "    <tr>\n",
       "      <th>0</th>\n",
       "      <td>TfidfVectorizer()</td>\n",
       "      <td>LogisticRegression(max_iter=5000)</td>\n",
       "      <td>0.93535</td>\n",
       "      <td>0.968979</td>\n",
       "      <td>0.937094</td>\n",
       "      <td>{'tvec__max_features': 30000, 'tvec__ngram_ran...</td>\n",
       "    </tr>\n",
       "  </tbody>\n",
       "</table>\n",
       "</div>"
      ],
      "text/plain": [
       "          Vectorizer                         Classifier  Cross-Val Score  \\\n",
       "0  TfidfVectorizer()  LogisticRegression(max_iter=5000)          0.93535   \n",
       "\n",
       "   Train Score  Test Score                                             params  \n",
       "0     0.968979    0.937094  {'tvec__max_features': 30000, 'tvec__ngram_ran...  "
      ]
     },
     "execution_count": 26,
     "metadata": {},
     "output_type": "execute_result"
    }
   ],
   "source": [
    "X = df['text']\n",
    "y = df['subreddit_isAMD']\n",
    "\n",
    "X_train, X_test, y_train, y_test = train_test_split(\n",
    "    X,\n",
    "    y,\n",
    "    test_size = 0.1,\n",
    "    random_state = 123,\n",
    "    stratify = y,\n",
    ")\n",
    "\n",
    "pipe = Pipeline([\n",
    "    ('tvec', TfidfVectorizer()),\n",
    "    ('lr', LogisticRegression(max_iter = 5_000))\n",
    "])\n",
    "\n",
    "pipe_params = {\n",
    "    'tvec__max_features': [5000, 10_000, 20_000, 30_000, 40_000, 50_000],\n",
    "    'tvec__stop_words' : [new_spacy],\n",
    "    'tvec__ngram_range': [(1,1)]\n",
    "}\n",
    "\n",
    "gs = GridSearchCV(\n",
    "    pipe,\n",
    "    param_grid=pipe_params,\n",
    "    cv = 5,\n",
    "    n_jobs= -1,\n",
    ")\n",
    "\n",
    "# Fit GridSearch to training data.\n",
    "gs.fit(X_train, y_train)\n",
    "\n",
    "performance_df= pd.DataFrame()\n",
    "df_temp = pd.DataFrame({'Vectorizer': [str(pipe[0])], 'Classifier': [str(pipe[1])], 'Cross-Val Score': [gs.best_score_], 'Train Score': [gs.score(X_train, y_train)], 'Test Score':[gs.score(X_test, y_test)], 'params': [str(gs.best_params_)]})\n",
    "performance_df = pd.concat([performance_df, df_temp], ignore_index = True, axis = 0)\n",
    "performance_df"
   ]
  },
  {
   "cell_type": "markdown",
   "metadata": {},
   "source": [
    "#### ngram_range"
   ]
  },
  {
   "cell_type": "code",
   "execution_count": 27,
   "metadata": {},
   "outputs": [
    {
     "data": {
      "text/html": [
       "<div>\n",
       "<style scoped>\n",
       "    .dataframe tbody tr th:only-of-type {\n",
       "        vertical-align: middle;\n",
       "    }\n",
       "\n",
       "    .dataframe tbody tr th {\n",
       "        vertical-align: top;\n",
       "    }\n",
       "\n",
       "    .dataframe thead th {\n",
       "        text-align: right;\n",
       "    }\n",
       "</style>\n",
       "<table border=\"1\" class=\"dataframe\">\n",
       "  <thead>\n",
       "    <tr style=\"text-align: right;\">\n",
       "      <th></th>\n",
       "      <th>Vectorizer</th>\n",
       "      <th>Classifier</th>\n",
       "      <th>Cross-Val Score</th>\n",
       "      <th>Train Score</th>\n",
       "      <th>Test Score</th>\n",
       "      <th>params</th>\n",
       "    </tr>\n",
       "  </thead>\n",
       "  <tbody>\n",
       "    <tr>\n",
       "      <th>0</th>\n",
       "      <td>TfidfVectorizer()</td>\n",
       "      <td>LogisticRegression(max_iter=5000)</td>\n",
       "      <td>0.93535</td>\n",
       "      <td>0.968979</td>\n",
       "      <td>0.937094</td>\n",
       "      <td>{'tvec__max_features': 30000, 'tvec__ngram_ran...</td>\n",
       "    </tr>\n",
       "    <tr>\n",
       "      <th>1</th>\n",
       "      <td>TfidfVectorizer()</td>\n",
       "      <td>LogisticRegression(max_iter=5000)</td>\n",
       "      <td>0.93535</td>\n",
       "      <td>0.968036</td>\n",
       "      <td>0.935597</td>\n",
       "      <td>{'tvec__max_features': 20000, 'tvec__ngram_ran...</td>\n",
       "    </tr>\n",
       "  </tbody>\n",
       "</table>\n",
       "</div>"
      ],
      "text/plain": [
       "          Vectorizer                         Classifier  Cross-Val Score  \\\n",
       "0  TfidfVectorizer()  LogisticRegression(max_iter=5000)          0.93535   \n",
       "1  TfidfVectorizer()  LogisticRegression(max_iter=5000)          0.93535   \n",
       "\n",
       "   Train Score  Test Score                                             params  \n",
       "0     0.968979    0.937094  {'tvec__max_features': 30000, 'tvec__ngram_ran...  \n",
       "1     0.968036    0.935597  {'tvec__max_features': 20000, 'tvec__ngram_ran...  "
      ]
     },
     "execution_count": 27,
     "metadata": {},
     "output_type": "execute_result"
    }
   ],
   "source": [
    "X = df['text']\n",
    "y = df['subreddit_isAMD']\n",
    "\n",
    "X_train, X_test, y_train, y_test = train_test_split(\n",
    "    X,\n",
    "    y,\n",
    "    test_size = 0.1,\n",
    "    random_state = 123,\n",
    "    stratify = y,\n",
    ")\n",
    "\n",
    "pipe = Pipeline([\n",
    "    ('tvec', TfidfVectorizer()),\n",
    "    ('lr', LogisticRegression(max_iter = 5_000))\n",
    "])\n",
    "\n",
    "pipe_params = {\n",
    "    'tvec__max_features': [20_000],\n",
    "    'tvec__stop_words' : [new_spacy],\n",
    "    'tvec__ngram_range': [(1,1), (1,2), (1,3)]\n",
    "}\n",
    "\n",
    "gs = GridSearchCV(\n",
    "    pipe,\n",
    "    param_grid=pipe_params,\n",
    "    cv = 5,\n",
    "    n_jobs= -1,\n",
    ")\n",
    "\n",
    "# Fit GridSearch to training data.\n",
    "gs.fit(X_train, y_train)\n",
    "\n",
    "df_temp = pd.DataFrame({'Vectorizer': [str(pipe[0])], 'Classifier': [str(pipe[1])], 'Cross-Val Score': [gs.best_score_], 'Train Score': [gs.score(X_train, y_train)], 'Test Score':[gs.score(X_test, y_test)], 'params': [str(gs.best_params_)]})\n",
    "performance_df = pd.concat([performance_df, df_temp], ignore_index = True, axis = 0)\n",
    "performance_df"
   ]
  },
  {
   "cell_type": "markdown",
   "metadata": {},
   "source": [
    "#### min_df"
   ]
  },
  {
   "cell_type": "code",
   "execution_count": 28,
   "metadata": {},
   "outputs": [
    {
     "data": {
      "text/html": [
       "<div>\n",
       "<style scoped>\n",
       "    .dataframe tbody tr th:only-of-type {\n",
       "        vertical-align: middle;\n",
       "    }\n",
       "\n",
       "    .dataframe tbody tr th {\n",
       "        vertical-align: top;\n",
       "    }\n",
       "\n",
       "    .dataframe thead th {\n",
       "        text-align: right;\n",
       "    }\n",
       "</style>\n",
       "<table border=\"1\" class=\"dataframe\">\n",
       "  <thead>\n",
       "    <tr style=\"text-align: right;\">\n",
       "      <th></th>\n",
       "      <th>Vectorizer</th>\n",
       "      <th>Classifier</th>\n",
       "      <th>Cross-Val Score</th>\n",
       "      <th>Train Score</th>\n",
       "      <th>Test Score</th>\n",
       "      <th>params</th>\n",
       "    </tr>\n",
       "  </thead>\n",
       "  <tbody>\n",
       "    <tr>\n",
       "      <th>0</th>\n",
       "      <td>TfidfVectorizer()</td>\n",
       "      <td>LogisticRegression(max_iter=5000)</td>\n",
       "      <td>0.935350</td>\n",
       "      <td>0.968979</td>\n",
       "      <td>0.937094</td>\n",
       "      <td>{'tvec__max_features': 30000, 'tvec__ngram_ran...</td>\n",
       "    </tr>\n",
       "    <tr>\n",
       "      <th>1</th>\n",
       "      <td>TfidfVectorizer()</td>\n",
       "      <td>LogisticRegression(max_iter=5000)</td>\n",
       "      <td>0.935350</td>\n",
       "      <td>0.968036</td>\n",
       "      <td>0.935597</td>\n",
       "      <td>{'tvec__max_features': 20000, 'tvec__ngram_ran...</td>\n",
       "    </tr>\n",
       "    <tr>\n",
       "      <th>2</th>\n",
       "      <td>TfidfVectorizer()</td>\n",
       "      <td>LogisticRegression(max_iter=5000)</td>\n",
       "      <td>0.935627</td>\n",
       "      <td>0.967925</td>\n",
       "      <td>0.935597</td>\n",
       "      <td>{'tvec__max_features': 20000, 'tvec__min_df': ...</td>\n",
       "    </tr>\n",
       "  </tbody>\n",
       "</table>\n",
       "</div>"
      ],
      "text/plain": [
       "          Vectorizer                         Classifier  Cross-Val Score  \\\n",
       "0  TfidfVectorizer()  LogisticRegression(max_iter=5000)         0.935350   \n",
       "1  TfidfVectorizer()  LogisticRegression(max_iter=5000)         0.935350   \n",
       "2  TfidfVectorizer()  LogisticRegression(max_iter=5000)         0.935627   \n",
       "\n",
       "   Train Score  Test Score                                             params  \n",
       "0     0.968979    0.937094  {'tvec__max_features': 30000, 'tvec__ngram_ran...  \n",
       "1     0.968036    0.935597  {'tvec__max_features': 20000, 'tvec__ngram_ran...  \n",
       "2     0.967925    0.935597  {'tvec__max_features': 20000, 'tvec__min_df': ...  "
      ]
     },
     "execution_count": 28,
     "metadata": {},
     "output_type": "execute_result"
    }
   ],
   "source": [
    "X = df['text']\n",
    "y = df['subreddit_isAMD']\n",
    "\n",
    "X_train, X_test, y_train, y_test = train_test_split(\n",
    "    X,\n",
    "    y,\n",
    "    test_size = 0.1,\n",
    "    random_state = 123,\n",
    "    stratify = y,\n",
    ")\n",
    "\n",
    "pipe = Pipeline([\n",
    "    ('tvec', TfidfVectorizer()),\n",
    "    ('lr', LogisticRegression(max_iter = 5_000))\n",
    "])\n",
    "\n",
    "pipe_params = {\n",
    "    'tvec__max_features': [20_000],\n",
    "    'tvec__stop_words' : [new_spacy],\n",
    "    'tvec__ngram_range': [(1,1)],\n",
    "    'tvec__min_df': [1, 2, 3, 4, 5, 6, 7, 8, 9, 10],\n",
    "}\n",
    "\n",
    "gs = GridSearchCV(\n",
    "    pipe,\n",
    "    param_grid=pipe_params,\n",
    "    cv = 5,\n",
    "    n_jobs= -1,\n",
    ")\n",
    "\n",
    "# Fit GridSearch to training data.\n",
    "gs.fit(X_train, y_train)\n",
    "\n",
    "df_temp = pd.DataFrame({'Vectorizer': [str(pipe[0])], 'Classifier': [str(pipe[1])], 'Cross-Val Score': [gs.best_score_], 'Train Score': [gs.score(X_train, y_train)], 'Test Score':[gs.score(X_test, y_test)], 'params': [str(gs.best_params_)]})\n",
    "performance_df = pd.concat([performance_df, df_temp], ignore_index = True, axis = 0)\n",
    "performance_df"
   ]
  },
  {
   "cell_type": "markdown",
   "metadata": {},
   "source": [
    "#### max_df"
   ]
  },
  {
   "cell_type": "code",
   "execution_count": 29,
   "metadata": {},
   "outputs": [
    {
     "data": {
      "text/html": [
       "<div>\n",
       "<style scoped>\n",
       "    .dataframe tbody tr th:only-of-type {\n",
       "        vertical-align: middle;\n",
       "    }\n",
       "\n",
       "    .dataframe tbody tr th {\n",
       "        vertical-align: top;\n",
       "    }\n",
       "\n",
       "    .dataframe thead th {\n",
       "        text-align: right;\n",
       "    }\n",
       "</style>\n",
       "<table border=\"1\" class=\"dataframe\">\n",
       "  <thead>\n",
       "    <tr style=\"text-align: right;\">\n",
       "      <th></th>\n",
       "      <th>Vectorizer</th>\n",
       "      <th>Classifier</th>\n",
       "      <th>Cross-Val Score</th>\n",
       "      <th>Train Score</th>\n",
       "      <th>Test Score</th>\n",
       "      <th>params</th>\n",
       "    </tr>\n",
       "  </thead>\n",
       "  <tbody>\n",
       "    <tr>\n",
       "      <th>0</th>\n",
       "      <td>TfidfVectorizer()</td>\n",
       "      <td>LogisticRegression(max_iter=5000)</td>\n",
       "      <td>0.935350</td>\n",
       "      <td>0.968979</td>\n",
       "      <td>0.937094</td>\n",
       "      <td>{'tvec__max_features': 30000, 'tvec__ngram_ran...</td>\n",
       "    </tr>\n",
       "    <tr>\n",
       "      <th>1</th>\n",
       "      <td>TfidfVectorizer()</td>\n",
       "      <td>LogisticRegression(max_iter=5000)</td>\n",
       "      <td>0.935350</td>\n",
       "      <td>0.968036</td>\n",
       "      <td>0.935597</td>\n",
       "      <td>{'tvec__max_features': 20000, 'tvec__ngram_ran...</td>\n",
       "    </tr>\n",
       "    <tr>\n",
       "      <th>2</th>\n",
       "      <td>TfidfVectorizer()</td>\n",
       "      <td>LogisticRegression(max_iter=5000)</td>\n",
       "      <td>0.935627</td>\n",
       "      <td>0.967925</td>\n",
       "      <td>0.935597</td>\n",
       "      <td>{'tvec__max_features': 20000, 'tvec__min_df': ...</td>\n",
       "    </tr>\n",
       "    <tr>\n",
       "      <th>3</th>\n",
       "      <td>TfidfVectorizer()</td>\n",
       "      <td>LogisticRegression(max_iter=5000)</td>\n",
       "      <td>0.935183</td>\n",
       "      <td>0.968368</td>\n",
       "      <td>0.936595</td>\n",
       "      <td>{'tvec__max_df': 1.0, 'tvec__max_features': 20...</td>\n",
       "    </tr>\n",
       "  </tbody>\n",
       "</table>\n",
       "</div>"
      ],
      "text/plain": [
       "          Vectorizer                         Classifier  Cross-Val Score  \\\n",
       "0  TfidfVectorizer()  LogisticRegression(max_iter=5000)         0.935350   \n",
       "1  TfidfVectorizer()  LogisticRegression(max_iter=5000)         0.935350   \n",
       "2  TfidfVectorizer()  LogisticRegression(max_iter=5000)         0.935627   \n",
       "3  TfidfVectorizer()  LogisticRegression(max_iter=5000)         0.935183   \n",
       "\n",
       "   Train Score  Test Score                                             params  \n",
       "0     0.968979    0.937094  {'tvec__max_features': 30000, 'tvec__ngram_ran...  \n",
       "1     0.968036    0.935597  {'tvec__max_features': 20000, 'tvec__ngram_ran...  \n",
       "2     0.967925    0.935597  {'tvec__max_features': 20000, 'tvec__min_df': ...  \n",
       "3     0.968368    0.936595  {'tvec__max_df': 1.0, 'tvec__max_features': 20...  "
      ]
     },
     "execution_count": 29,
     "metadata": {},
     "output_type": "execute_result"
    }
   ],
   "source": [
    "X = df['text']\n",
    "y = df['subreddit_isAMD']\n",
    "\n",
    "X_train, X_test, y_train, y_test = train_test_split(\n",
    "    X,\n",
    "    y,\n",
    "    test_size = 0.1,\n",
    "    random_state = 123,\n",
    "    stratify = y,\n",
    ")\n",
    "\n",
    "pipe = Pipeline([\n",
    "    ('tvec', TfidfVectorizer()),\n",
    "    ('lr', LogisticRegression(max_iter = 5_000))\n",
    "])\n",
    "\n",
    "pipe_params = {\n",
    "    'tvec__max_features': [20_000],\n",
    "    'tvec__stop_words' : [new_spacy],\n",
    "    'tvec__ngram_range': [(1,1)],\n",
    "    'tvec__max_df': [1.0, 0.98, 0.96, 0.94, 0.92, 0.90],\n",
    "}\n",
    "\n",
    "gs = GridSearchCV(\n",
    "    pipe,\n",
    "    param_grid=pipe_params,\n",
    "    cv = 5,\n",
    "    n_jobs= -1,\n",
    ")\n",
    "\n",
    "# Fit GridSearch to training data.\n",
    "gs.fit(X_train, y_train)\n",
    "\n",
    "df_temp = pd.DataFrame({'Vectorizer': [str(pipe[0])], 'Classifier': [str(pipe[1])], 'Cross-Val Score': [gs.best_score_], 'Train Score': [gs.score(X_train, y_train)], 'Test Score':[gs.score(X_test, y_test)], 'params': [str(gs.best_params_)]})\n",
    "performance_df = pd.concat([performance_df, df_temp], ignore_index = True, axis = 0)\n",
    "performance_df"
   ]
  },
  {
   "cell_type": "markdown",
   "metadata": {},
   "source": [
    "---"
   ]
  },
  {
   "cell_type": "markdown",
   "metadata": {},
   "source": [
    "### Logistic Regression Hyperparameter Tuning"
   ]
  },
  {
   "cell_type": "markdown",
   "metadata": {},
   "source": [
    "#### L2 Regularizaton"
   ]
  },
  {
   "cell_type": "code",
   "execution_count": 30,
   "metadata": {},
   "outputs": [
    {
     "data": {
      "text/html": [
       "<div>\n",
       "<style scoped>\n",
       "    .dataframe tbody tr th:only-of-type {\n",
       "        vertical-align: middle;\n",
       "    }\n",
       "\n",
       "    .dataframe tbody tr th {\n",
       "        vertical-align: top;\n",
       "    }\n",
       "\n",
       "    .dataframe thead th {\n",
       "        text-align: right;\n",
       "    }\n",
       "</style>\n",
       "<table border=\"1\" class=\"dataframe\">\n",
       "  <thead>\n",
       "    <tr style=\"text-align: right;\">\n",
       "      <th></th>\n",
       "      <th>Vectorizer</th>\n",
       "      <th>Classifier</th>\n",
       "      <th>Cross-Val Score</th>\n",
       "      <th>Train Score</th>\n",
       "      <th>Test Score</th>\n",
       "      <th>params</th>\n",
       "    </tr>\n",
       "  </thead>\n",
       "  <tbody>\n",
       "    <tr>\n",
       "      <th>0</th>\n",
       "      <td>TfidfVectorizer()</td>\n",
       "      <td>LogisticRegression(max_iter=5000)</td>\n",
       "      <td>0.935350</td>\n",
       "      <td>0.968979</td>\n",
       "      <td>0.937094</td>\n",
       "      <td>{'tvec__max_features': 30000, 'tvec__ngram_ran...</td>\n",
       "    </tr>\n",
       "    <tr>\n",
       "      <th>1</th>\n",
       "      <td>TfidfVectorizer()</td>\n",
       "      <td>LogisticRegression(max_iter=5000)</td>\n",
       "      <td>0.935350</td>\n",
       "      <td>0.968036</td>\n",
       "      <td>0.935597</td>\n",
       "      <td>{'tvec__max_features': 20000, 'tvec__ngram_ran...</td>\n",
       "    </tr>\n",
       "    <tr>\n",
       "      <th>2</th>\n",
       "      <td>TfidfVectorizer()</td>\n",
       "      <td>LogisticRegression(max_iter=5000)</td>\n",
       "      <td>0.935627</td>\n",
       "      <td>0.967925</td>\n",
       "      <td>0.935597</td>\n",
       "      <td>{'tvec__max_features': 20000, 'tvec__min_df': ...</td>\n",
       "    </tr>\n",
       "    <tr>\n",
       "      <th>3</th>\n",
       "      <td>TfidfVectorizer()</td>\n",
       "      <td>LogisticRegression(max_iter=5000)</td>\n",
       "      <td>0.935183</td>\n",
       "      <td>0.968368</td>\n",
       "      <td>0.936595</td>\n",
       "      <td>{'tvec__max_df': 1.0, 'tvec__max_features': 20...</td>\n",
       "    </tr>\n",
       "    <tr>\n",
       "      <th>4</th>\n",
       "      <td>TfidfVectorizer()</td>\n",
       "      <td>LogisticRegression(max_iter=5000)</td>\n",
       "      <td>0.935350</td>\n",
       "      <td>0.968979</td>\n",
       "      <td>0.937094</td>\n",
       "      <td>{'lr__C': 1.0, 'tvec__max_features': 30000, 't...</td>\n",
       "    </tr>\n",
       "  </tbody>\n",
       "</table>\n",
       "</div>"
      ],
      "text/plain": [
       "          Vectorizer                         Classifier  Cross-Val Score  \\\n",
       "0  TfidfVectorizer()  LogisticRegression(max_iter=5000)         0.935350   \n",
       "1  TfidfVectorizer()  LogisticRegression(max_iter=5000)         0.935350   \n",
       "2  TfidfVectorizer()  LogisticRegression(max_iter=5000)         0.935627   \n",
       "3  TfidfVectorizer()  LogisticRegression(max_iter=5000)         0.935183   \n",
       "4  TfidfVectorizer()  LogisticRegression(max_iter=5000)         0.935350   \n",
       "\n",
       "   Train Score  Test Score                                             params  \n",
       "0     0.968979    0.937094  {'tvec__max_features': 30000, 'tvec__ngram_ran...  \n",
       "1     0.968036    0.935597  {'tvec__max_features': 20000, 'tvec__ngram_ran...  \n",
       "2     0.967925    0.935597  {'tvec__max_features': 20000, 'tvec__min_df': ...  \n",
       "3     0.968368    0.936595  {'tvec__max_df': 1.0, 'tvec__max_features': 20...  \n",
       "4     0.968979    0.937094  {'lr__C': 1.0, 'tvec__max_features': 30000, 't...  "
      ]
     },
     "execution_count": 30,
     "metadata": {},
     "output_type": "execute_result"
    }
   ],
   "source": [
    "X = df['text']\n",
    "y = df['subreddit_isAMD']\n",
    "\n",
    "X_train, X_test, y_train, y_test = train_test_split(\n",
    "    X,\n",
    "    y,\n",
    "    test_size = 0.1,\n",
    "    random_state = 123,\n",
    "    stratify = y,\n",
    ")\n",
    "\n",
    "pipe = Pipeline([\n",
    "    ('tvec', TfidfVectorizer()),\n",
    "    ('lr', LogisticRegression(max_iter = 5_000))\n",
    "])\n",
    "\n",
    "pipe_params = {\n",
    "    'tvec__max_features': [30_000],\n",
    "    'tvec__stop_words' : [new_spacy],\n",
    "    'tvec__ngram_range': [(1,1)],\n",
    "    'lr__C': np.linspace(0.001,1,11),\n",
    "}\n",
    "\n",
    "gs = GridSearchCV(\n",
    "    pipe,\n",
    "    param_grid=pipe_params,\n",
    "    cv = 5,\n",
    "    n_jobs= -1,\n",
    ")\n",
    "\n",
    "# Fit GridSearch to training data.\n",
    "gs.fit(X_train, y_train)\n",
    "\n",
    "df_temp = pd.DataFrame({'Vectorizer': [str(pipe[0])], 'Classifier': [str(pipe[1])], 'Cross-Val Score': [gs.best_score_], 'Train Score': [gs.score(X_train, y_train)], 'Test Score':[gs.score(X_test, y_test)], 'params': [str(gs.best_params_)]})\n",
    "performance_df = pd.concat([performance_df, df_temp], ignore_index = True, axis = 0)\n",
    "performance_df"
   ]
  },
  {
   "cell_type": "markdown",
   "metadata": {},
   "source": [
    "#### Elasticnet Regularization"
   ]
  },
  {
   "cell_type": "code",
   "execution_count": 31,
   "metadata": {
    "scrolled": true
   },
   "outputs": [
    {
     "data": {
      "text/html": [
       "<div>\n",
       "<style scoped>\n",
       "    .dataframe tbody tr th:only-of-type {\n",
       "        vertical-align: middle;\n",
       "    }\n",
       "\n",
       "    .dataframe tbody tr th {\n",
       "        vertical-align: top;\n",
       "    }\n",
       "\n",
       "    .dataframe thead th {\n",
       "        text-align: right;\n",
       "    }\n",
       "</style>\n",
       "<table border=\"1\" class=\"dataframe\">\n",
       "  <thead>\n",
       "    <tr style=\"text-align: right;\">\n",
       "      <th></th>\n",
       "      <th>Vectorizer</th>\n",
       "      <th>Classifier</th>\n",
       "      <th>Cross-Val Score</th>\n",
       "      <th>Train Score</th>\n",
       "      <th>Test Score</th>\n",
       "      <th>params</th>\n",
       "    </tr>\n",
       "  </thead>\n",
       "  <tbody>\n",
       "    <tr>\n",
       "      <th>0</th>\n",
       "      <td>TfidfVectorizer()</td>\n",
       "      <td>LogisticRegression(max_iter=5000)</td>\n",
       "      <td>0.935350</td>\n",
       "      <td>0.968979</td>\n",
       "      <td>0.937094</td>\n",
       "      <td>{'tvec__max_features': 30000, 'tvec__ngram_ran...</td>\n",
       "    </tr>\n",
       "    <tr>\n",
       "      <th>1</th>\n",
       "      <td>TfidfVectorizer()</td>\n",
       "      <td>LogisticRegression(max_iter=5000)</td>\n",
       "      <td>0.935350</td>\n",
       "      <td>0.968036</td>\n",
       "      <td>0.935597</td>\n",
       "      <td>{'tvec__max_features': 20000, 'tvec__ngram_ran...</td>\n",
       "    </tr>\n",
       "    <tr>\n",
       "      <th>2</th>\n",
       "      <td>TfidfVectorizer()</td>\n",
       "      <td>LogisticRegression(max_iter=5000)</td>\n",
       "      <td>0.935627</td>\n",
       "      <td>0.967925</td>\n",
       "      <td>0.935597</td>\n",
       "      <td>{'tvec__max_features': 20000, 'tvec__min_df': ...</td>\n",
       "    </tr>\n",
       "    <tr>\n",
       "      <th>3</th>\n",
       "      <td>TfidfVectorizer()</td>\n",
       "      <td>LogisticRegression(max_iter=5000)</td>\n",
       "      <td>0.935183</td>\n",
       "      <td>0.968368</td>\n",
       "      <td>0.936595</td>\n",
       "      <td>{'tvec__max_df': 1.0, 'tvec__max_features': 20...</td>\n",
       "    </tr>\n",
       "    <tr>\n",
       "      <th>4</th>\n",
       "      <td>TfidfVectorizer()</td>\n",
       "      <td>LogisticRegression(max_iter=5000)</td>\n",
       "      <td>0.935350</td>\n",
       "      <td>0.968979</td>\n",
       "      <td>0.937094</td>\n",
       "      <td>{'lr__C': 1.0, 'tvec__max_features': 30000, 't...</td>\n",
       "    </tr>\n",
       "    <tr>\n",
       "      <th>5</th>\n",
       "      <td>TfidfVectorizer()</td>\n",
       "      <td>LogisticRegression(max_iter=5000)</td>\n",
       "      <td>0.935627</td>\n",
       "      <td>0.965094</td>\n",
       "      <td>0.935097</td>\n",
       "      <td>{'lr__C': 1.0, 'lr__l1_ratio': 0.1, 'lr__penal...</td>\n",
       "    </tr>\n",
       "  </tbody>\n",
       "</table>\n",
       "</div>"
      ],
      "text/plain": [
       "          Vectorizer                         Classifier  Cross-Val Score  \\\n",
       "0  TfidfVectorizer()  LogisticRegression(max_iter=5000)         0.935350   \n",
       "1  TfidfVectorizer()  LogisticRegression(max_iter=5000)         0.935350   \n",
       "2  TfidfVectorizer()  LogisticRegression(max_iter=5000)         0.935627   \n",
       "3  TfidfVectorizer()  LogisticRegression(max_iter=5000)         0.935183   \n",
       "4  TfidfVectorizer()  LogisticRegression(max_iter=5000)         0.935350   \n",
       "5  TfidfVectorizer()  LogisticRegression(max_iter=5000)         0.935627   \n",
       "\n",
       "   Train Score  Test Score                                             params  \n",
       "0     0.968979    0.937094  {'tvec__max_features': 30000, 'tvec__ngram_ran...  \n",
       "1     0.968036    0.935597  {'tvec__max_features': 20000, 'tvec__ngram_ran...  \n",
       "2     0.967925    0.935597  {'tvec__max_features': 20000, 'tvec__min_df': ...  \n",
       "3     0.968368    0.936595  {'tvec__max_df': 1.0, 'tvec__max_features': 20...  \n",
       "4     0.968979    0.937094  {'lr__C': 1.0, 'tvec__max_features': 30000, 't...  \n",
       "5     0.965094    0.935097  {'lr__C': 1.0, 'lr__l1_ratio': 0.1, 'lr__penal...  "
      ]
     },
     "execution_count": 31,
     "metadata": {},
     "output_type": "execute_result"
    }
   ],
   "source": [
    "X = df['text']\n",
    "y = df['subreddit_isAMD']\n",
    "\n",
    "X_train, X_test, y_train, y_test = train_test_split(\n",
    "    X,\n",
    "    y,\n",
    "    test_size = 0.1,\n",
    "    random_state = 123,\n",
    "    stratify = y,\n",
    ")\n",
    "\n",
    "pipe = Pipeline([\n",
    "    ('tvec', TfidfVectorizer()),\n",
    "    ('lr', LogisticRegression(max_iter = 5_000))\n",
    "])\n",
    "\n",
    "pipe_params = {\n",
    "    'tvec__max_features': [30_000],\n",
    "    'tvec__stop_words' : [new_spacy],\n",
    "    'tvec__ngram_range': [(1,1)],\n",
    "    'lr__C': np.linspace(0.001, 1, 11),\n",
    "    'lr__solver': ['saga'],\n",
    "    'lr__penalty': ['elasticnet'],\n",
    "    'lr__l1_ratio': np.linspace(0, 1, 11),\n",
    "}\n",
    "\n",
    "gs = GridSearchCV(\n",
    "    pipe,\n",
    "    param_grid=pipe_params,\n",
    "    cv = 5,\n",
    "    n_jobs= -1,\n",
    ")\n",
    "\n",
    "# Fit GridSearch to training data.\n",
    "gs.fit(X_train, y_train)\n",
    "\n",
    "df_temp = pd.DataFrame({'Vectorizer': [str(pipe[0])], 'Classifier': [str(pipe[1])], 'Cross-Val Score': [gs.best_score_], 'Train Score': [gs.score(X_train, y_train)], 'Test Score':[gs.score(X_test, y_test)], 'params': [str(gs.best_params_)]})\n",
    "performance_df = pd.concat([performance_df, df_temp], ignore_index = True, axis = 0)\n",
    "performance_df"
   ]
  },
  {
   "attachments": {},
   "cell_type": "markdown",
   "metadata": {},
   "source": [
    "After Hyperparameter tuning, we arrive at out best model yet (index 0 in the DataFrame above) which has the following hyperparameters: \n",
    "- ```'tvec__max_features’ = 30_000```\n",
    "- ```'tvec__n_gram_range' = (1,1)```\n",
    "- ```'lr__C': 1.0```\n",
    "\n",
    "This model will be evaluated and deployed to production."
   ]
  }
 ],
 "metadata": {
  "interpreter": {
   "hash": "1be43b16aec1a185d7e7e033a290b6a7405d97e3c189469a6f458ea28157e1bd"
  },
  "kernelspec": {
   "display_name": "Python 3 (ipykernel)",
   "language": "python",
   "name": "python3"
  },
  "language_info": {
   "codemirror_mode": {
    "name": "ipython",
    "version": 3
   },
   "file_extension": ".py",
   "mimetype": "text/x-python",
   "name": "python",
   "nbconvert_exporter": "python",
   "pygments_lexer": "ipython3",
   "version": "3.8.12"
  }
 },
 "nbformat": 4,
 "nbformat_minor": 2
}
